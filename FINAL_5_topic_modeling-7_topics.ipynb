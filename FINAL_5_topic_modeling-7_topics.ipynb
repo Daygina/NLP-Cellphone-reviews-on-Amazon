{
 "cells": [
  {
   "cell_type": "markdown",
   "metadata": {},
   "source": [
    "# Libraries and dataset import"
   ]
  },
  {
   "cell_type": "code",
   "execution_count": 1,
   "metadata": {},
   "outputs": [],
   "source": [
    "%matplotlib inline\n",
    "import warnings\n",
    "import numpy as np\n",
    "import pandas as pd\n",
    "import matplotlib.pyplot as plt\n",
    "import time\n",
    "warnings.simplefilter(\"ignore\", DeprecationWarning)\n",
    "from sklearn.feature_extraction.text import CountVectorizer, TfidfVectorizer\n",
    "from sklearn.decomposition import LatentDirichletAllocation, NMF\n",
    "import pickle\n",
    "\n",
    "from sklearn.model_selection import GridSearchCV"
   ]
  },
  {
   "cell_type": "code",
   "execution_count": 2,
   "metadata": {},
   "outputs": [
    {
     "name": "stderr",
     "output_type": "stream",
     "text": [
      "C:\\Users\\eleouetd01\\anaconda\\lib\\site-packages\\past\\types\\oldstr.py:5: DeprecationWarning: Using or importing the ABCs from 'collections' instead of from 'collections.abc' is deprecated, and in 3.8 it will stop working\n",
      "  from collections import Iterable\n"
     ]
    }
   ],
   "source": [
    "# Interactive visualisation for evaluation of LDA model \n",
    "import pyLDAvis\n",
    "import pyLDAvis.sklearn\n",
    "pyLDAvis.enable_notebook()"
   ]
  },
  {
   "cell_type": "code",
   "execution_count": 3,
   "metadata": {},
   "outputs": [],
   "source": [
    "amazon2017_string=pd.read_pickle('../amazon2017_string.pkl')"
   ]
  },
  {
   "cell_type": "code",
   "execution_count": 4,
   "metadata": {},
   "outputs": [],
   "source": [
    "samsung=amazon2017_string[amazon2017_string.brand == 'Samsung']"
   ]
  },
  {
   "cell_type": "code",
   "execution_count": null,
   "metadata": {},
   "outputs": [],
   "source": []
  },
  {
   "cell_type": "markdown",
   "metadata": {},
   "source": [
    "# VECTORS :Count vectorizer & Tf-IDF Vectorizer"
   ]
  },
  {
   "cell_type": "code",
   "execution_count": 5,
   "metadata": {},
   "outputs": [],
   "source": [
    "# Before we can apply LDA or NMF, we need to create vocabulary of all the words in our data, \n",
    "# vectorized matrix of the vocabulary.\n",
    "\n",
    "# COUNTVECTORIZER\n",
    "count_vectorizer = CountVectorizer(max_df=0.95, min_df=2, strip_accents='ascii', stop_words='english')\n",
    "doc_term_matrix_cv = count_vectorizer.fit_transform(samsung.text_processed) # vocabulary encoded into vectors with countvectorizer\n",
    "\n",
    "# IF-IDF VECTORIZER\n",
    "tfidf_vectorizer = TfidfVectorizer(max_df=0.95, min_df=2, strip_accents='ascii', stop_words=\"english\")\n",
    "matrix_tfidfvect = tfidf_vectorizer.fit_transform(samsung.text_processed)"
   ]
  },
  {
   "cell_type": "markdown",
   "metadata": {},
   "source": [
    "# 7 topics. Latent Dirichlet Allocation (LDA)  &  Non-Negative Matrix Factorization (NMF)"
   ]
  },
  {
   "cell_type": "code",
   "execution_count": 14,
   "metadata": {},
   "outputs": [],
   "source": [
    "# n_samples = 2000\n",
    "# n_features = 1000\n",
    "# number_components = 10\n",
    "number_components = 7\n",
    "no_top_words = 15\n",
    "# Function to print the topics\n",
    "def display_topics(model, feature_names, no_top_words):    \n",
    "    for topic_idx, topic in enumerate(model.components_):        \n",
    "        print(\"Topic %d:\" % (topic_idx))       \n",
    "        print (\",\".join([feature_names[i]                       \n",
    "                        for i in topic.argsort()[:-no_top_words - 1:-1]]))"
   ]
  },
  {
   "cell_type": "markdown",
   "metadata": {},
   "source": [
    "## Both models on CV"
   ]
  },
  {
   "cell_type": "code",
   "execution_count": 15,
   "metadata": {},
   "outputs": [
    {
     "data": {
      "text/plain": [
       "array([[0.18993663, 0.02049952, 0.22760358, ..., 0.020443  , 0.02046634,\n",
       "        0.02047408],\n",
       "       [0.04776648, 0.04791709, 0.38084259, ..., 0.04772336, 0.04785701,\n",
       "        0.04772892],\n",
       "       [0.38521896, 0.02861692, 0.02892449, ..., 0.02866111, 0.4713956 ,\n",
       "        0.0285968 ],\n",
       "       ...,\n",
       "       [0.01786616, 0.01789993, 0.61921396, ..., 0.01788484, 0.01795354,\n",
       "        0.017866  ],\n",
       "       [0.02042167, 0.02041765, 0.02046694, ..., 0.02043612, 0.87736962,\n",
       "        0.0204197 ],\n",
       "       [0.89031631, 0.0756186 , 0.00680423, ..., 0.00681322, 0.00682665,\n",
       "        0.00681026]])"
      ]
     },
     "execution_count": 15,
     "metadata": {},
     "output_type": "execute_result"
    }
   ],
   "source": [
    "model_LDA_cv = LatentDirichletAllocation(n_components=number_components)\n",
    "model_LDA_cv.fit_transform(doc_term_matrix_cv)"
   ]
  },
  {
   "cell_type": "code",
   "execution_count": 16,
   "metadata": {},
   "outputs": [
    {
     "data": {
      "text/plain": [
       "array([[0.        , 0.        , 0.        , ..., 0.        , 0.19476587,\n",
       "        0.        ],\n",
       "       [0.00392603, 0.00368796, 0.        , ..., 0.00424943, 0.00494404,\n",
       "        0.00221419],\n",
       "       [0.00524245, 0.01835557, 0.0077136 , ..., 0.01777005, 0.00913892,\n",
       "        0.        ],\n",
       "       ...,\n",
       "       [0.        , 0.07430582, 0.        , ..., 0.        , 0.20283528,\n",
       "        0.        ],\n",
       "       [0.        , 0.16424528, 0.        , ..., 0.00090371, 0.        ,\n",
       "        0.00296772],\n",
       "       [0.00489404, 0.        , 0.        , ..., 0.3054975 , 0.        ,\n",
       "        0.        ]])"
      ]
     },
     "execution_count": 16,
     "metadata": {},
     "output_type": "execute_result"
    }
   ],
   "source": [
    "model_NMF_cv = NMF(n_components=number_components)\n",
    "model_NMF_cv.fit_transform(doc_term_matrix_cv)"
   ]
  },
  {
   "cell_type": "code",
   "execution_count": 17,
   "metadata": {},
   "outputs": [
    {
     "name": "stdout",
     "output_type": "stream",
     "text": [
      "COUNT VECTORIZER. TWO MODELS\n",
      "LDA MODEL TOPICS\n",
      "Topic 0:\n",
      "unlocked,sim,att,verizon,work,card,tmobile,use,network,sprint,locked,carrier,service,good,said\n",
      "Topic 1:\n",
      "samsung,apps,like,card,dont,app,note,use,android,galaxy,gb,sd,im,google,new\n",
      "Topic 2:\n",
      "stars,good,great,product,love,excellent,price,nice,quality,excelente,telefono,bueno,ok,best,buen\n",
      "Topic 3:\n",
      "battery,great,good,life,camera,screen,love,note,use,like,samsung,best,fast,price,better\n",
      "Topic 4:\n",
      "battery,buy,working,charge,samsung,months,new,charger,amazon,bought,bad,money,dont,seller,refurbished\n",
      "Topic 5:\n",
      "great,new,works,like,condition,came,brand,happy,good,looks,perfect,far,love,price,refurbished\n",
      "Topic 6:\n",
      "screen,work,case,got,glass,broken,dropped,protector,defective,like,months,water,broke,doesnt,return\n",
      "Done in 0.031s.\n",
      "\n",
      "NMF MODEL TOPICS\n",
      "Topic 0:\n",
      "new,like,brand,looks,refurbished,came,works,box,im,charger,happy,buy,seller,condition,used\n",
      "Topic 1:\n",
      "great,works,price,love,condition,stars,fast,product,far,camera,quality,deal,came,value,buy\n",
      "Topic 2:\n",
      "apps,iphone,screen,app,use,like,set,dont,android,pro,using,ive,button,im,used\n",
      "Topic 3:\n",
      "samsung,note,screen,galaxy,camera,best,really,love,use,time,better,case,pen,gb,device\n",
      "Topic 4:\n",
      "sim,unlocked,card,att,verizon,work,tmobile,network,store,use,service,got,amazon,carrier,buy\n",
      "Topic 5:\n",
      "good,price,far,screen,really,condition,camera,product,works,quality,stars,nice,got,working,fast\n",
      "Topic 6:\n",
      "battery,life,charge,day,use,hours,charging,fast,charger,time,power,dont,long,bad,months\n",
      "Done in 0.049s.\n"
     ]
    }
   ],
   "source": [
    "print('COUNT VECTORIZER. TWO MODELS')\n",
    "t0 = time.time()\n",
    "print('LDA MODEL TOPICS')\n",
    "display_topics(model_LDA_cv, count_vectorizer.get_feature_names(), no_top_words)\n",
    "print(\"Done in %0.3fs.\" % (time.time() - t0))\n",
    "\n",
    "print()\n",
    "\n",
    "print('NMF MODEL TOPICS')\n",
    "display_topics(model_NMF_cv, count_vectorizer.get_feature_names(), no_top_words)\n",
    "print(\"Done in %0.3fs.\" % (time.time() - t0))"
   ]
  },
  {
   "cell_type": "markdown",
   "metadata": {},
   "source": [
    "## Both model on Tf-idf vectorizer"
   ]
  },
  {
   "cell_type": "code",
   "execution_count": 18,
   "metadata": {},
   "outputs": [
    {
     "data": {
      "text/plain": [
       "LatentDirichletAllocation(batch_size=128, doc_topic_prior=None,\n",
       "                          evaluate_every=-1, learning_decay=0.7,\n",
       "                          learning_method='batch', learning_offset=10.0,\n",
       "                          max_doc_update_iter=100, max_iter=10,\n",
       "                          mean_change_tol=0.001, n_components=7, n_jobs=None,\n",
       "                          perp_tol=0.1, random_state=None,\n",
       "                          topic_word_prior=None, total_samples=1000000.0,\n",
       "                          verbose=0)"
      ]
     },
     "execution_count": 18,
     "metadata": {},
     "output_type": "execute_result"
    }
   ],
   "source": [
    "model_LDA_tf= LatentDirichletAllocation(n_components=number_components)\n",
    "model_LDA_tf.fit(matrix_tfidfvect)"
   ]
  },
  {
   "cell_type": "code",
   "execution_count": 19,
   "metadata": {},
   "outputs": [
    {
     "data": {
      "text/plain": [
       "array([[0.        , 0.        , 0.07294379, ..., 0.        , 0.        ,\n",
       "        0.        ],\n",
       "       [0.        , 0.13052225, 0.        , ..., 0.        , 0.00298958,\n",
       "        0.        ],\n",
       "       [0.00723251, 0.00030306, 0.00637404, ..., 0.        , 0.        ,\n",
       "        0.09528956],\n",
       "       ...,\n",
       "       [0.02742242, 0.        , 0.10124036, ..., 0.00224488, 0.00200725,\n",
       "        0.0037327 ],\n",
       "       [0.05846962, 0.        , 0.        , ..., 0.00052221, 0.        ,\n",
       "        0.        ],\n",
       "       [0.        , 0.        , 0.        , ..., 0.        , 0.01446004,\n",
       "        0.        ]])"
      ]
     },
     "execution_count": 19,
     "metadata": {},
     "output_type": "execute_result"
    }
   ],
   "source": [
    "model_NMF_tf = NMF(n_components=number_components)\n",
    "model_NMF_tf.fit_transform(matrix_tfidfvect)"
   ]
  },
  {
   "cell_type": "code",
   "execution_count": 20,
   "metadata": {},
   "outputs": [
    {
     "name": "stdout",
     "output_type": "stream",
     "text": [
      "TF-IDF VECTORIZER. TWO MODELS\n",
      "LDA MODEL\n",
      "Topic 0:\n",
      "stars,great,good,love,works,excellent,product,price,nice,like,perfect,new,awesome,condition,far\n",
      "Topic 1:\n",
      "broken,reliable,defective,color,expectations,buy,enjoying,durable,money,penny,worth,screen,piece,crap,worst\n",
      "Topic 2:\n",
      "new,great,like,brand,good,works,came,battery,charger,looks,screen,refurbished,scratches,condition,price\n",
      "Topic 3:\n",
      "battery,samsung,great,camera,life,good,screen,use,note,galaxy,like,apps,love,dont,better\n",
      "Topic 4:\n",
      "excelente,bueno,telefono,buen,bien,producto,excelent,stars,perfecto,celular,llego,sim,funciona,card,precio\n",
      "Topic 5:\n",
      "unlocked,work,verizon,att,sim,buy,working,return,locked,battery,use,dont,card,star,tmobile\n",
      "Topic 6:\n",
      "star,loves,gift,screen,bought,wife,husband,broke,great,bad,cracked,glass,work,personal,good\n",
      "Done in 0.023s.\n",
      "\n",
      "NMF MODEL\n",
      "Topic 0:\n",
      "great,price,product,value,condition,buy,deal,awesome,quality,fast,purchase,camera,far,service,happy\n",
      "Topic 1:\n",
      "stars,excellent,nice,perfect,ok,thanks,expected,excelente,product,happy,advertised,working,excelent,condition,thank\n",
      "Topic 2:\n",
      "good,price,product,far,quality,value,deal,really,condition,nice,working,money,pretty,buy,fast\n",
      "Topic 3:\n",
      "battery,unlocked,work,screen,samsung,life,use,buy,sim,verizon,att,card,dont,note,got\n",
      "Topic 4:\n",
      "love,awesome,note,best,perfect,samsung,amazing,absolutely,thank,galaxy,camera,easy,fast,features,quality\n",
      "Topic 5:\n",
      "new,like,brand,looks,happy,condition,refurbished,came,looked,purchase,box,far,scratches,really,price\n",
      "Topic 6:\n",
      "works,perfect,perfectly,fine,condition,expected,described,came,looks,far,issues,problems,time,scratches,arrived\n",
      "Done in 0.043s.\n"
     ]
    }
   ],
   "source": [
    "print('TF-IDF VECTORIZER. TWO MODELS')\n",
    "t0 = time.time()\n",
    "print('LDA MODEL')\n",
    "display_topics(model_LDA_tf, tfidf_vectorizer.get_feature_names(), no_top_words)\n",
    "print(\"Done in %0.3fs.\" % (time.time() - t0))\n",
    "\n",
    "print()\n",
    "\n",
    "print('NMF MODEL')\n",
    "display_topics(model_NMF_tf, tfidf_vectorizer.get_feature_names(), no_top_words)\n",
    "print(\"Done in %0.3fs.\" % (time.time() - t0))"
   ]
  },
  {
   "cell_type": "markdown",
   "metadata": {},
   "source": [
    "## LDA vizualisation on both count and tfidf vectorizer"
   ]
  },
  {
   "cell_type": "code",
   "execution_count": 21,
   "metadata": {},
   "outputs": [
    {
     "name": "stderr",
     "output_type": "stream",
     "text": [
      "C:\\Users\\eleouetd01\\anaconda\\lib\\site-packages\\pyLDAvis\\_prepare.py:257: FutureWarning: Sorting because non-concatenation axis is not aligned. A future version\n",
      "of pandas will change to not sort by default.\n",
      "\n",
      "To accept the future behavior, pass 'sort=False'.\n",
      "\n",
      "To retain the current behavior and silence the warning, pass 'sort=True'.\n",
      "\n",
      "  return pd.concat([default_term_info] + list(topic_dfs))\n"
     ]
    },
    {
     "data": {
      "text/html": [
       "\n",
       "<link rel=\"stylesheet\" type=\"text/css\" href=\"https://cdn.rawgit.com/bmabey/pyLDAvis/files/ldavis.v1.0.0.css\">\n",
       "\n",
       "\n",
       "<div id=\"ldavis_el1726819543913671361165820822\"></div>\n",
       "<script type=\"text/javascript\">\n",
       "\n",
       "var ldavis_el1726819543913671361165820822_data = {\"mdsDat\": {\"x\": [-0.06825329253748615, -0.12897019261776396, -0.059516877240251044, -0.18142832936074307, 0.036988440098070834, 0.29912936043393545, 0.10205089122423763], \"y\": [-0.12993177913917187, 0.010661950578333884, -0.06726091862036732, 0.20876574931346203, -0.08070503562512736, 0.11872376429124412, -0.06025373079837335], \"topics\": [1, 2, 3, 4, 5, 6, 7], \"cluster\": [1, 1, 1, 1, 1, 1, 1], \"Freq\": [26.389721036256912, 21.643463750678357, 20.051918489692707, 13.968456367580984, 6.96297071020249, 5.776235927625194, 5.207233717963361]}, \"tinfo\": {\"Category\": [\"Default\", \"Default\", \"Default\", \"Default\", \"Default\", \"Default\", \"Default\", \"Default\", \"Default\", \"Default\", \"Default\", \"Default\", \"Default\", \"Default\", \"Default\", \"Default\", \"Default\", \"Default\", \"Default\", \"Default\", \"Default\", \"Default\", \"Default\", \"Default\", \"Default\", \"Default\", \"Default\", \"Default\", \"Default\", \"Default\", \"Topic1\", \"Topic1\", \"Topic1\", \"Topic1\", \"Topic1\", \"Topic1\", \"Topic1\", \"Topic1\", \"Topic1\", \"Topic1\", \"Topic1\", \"Topic1\", \"Topic1\", \"Topic1\", \"Topic1\", \"Topic1\", \"Topic1\", \"Topic1\", \"Topic1\", \"Topic1\", \"Topic1\", \"Topic1\", \"Topic1\", \"Topic1\", \"Topic1\", \"Topic1\", \"Topic1\", \"Topic1\", \"Topic1\", \"Topic1\", \"Topic1\", \"Topic1\", \"Topic1\", \"Topic1\", \"Topic1\", \"Topic1\", \"Topic1\", \"Topic1\", \"Topic1\", \"Topic1\", \"Topic1\", \"Topic1\", \"Topic1\", \"Topic1\", \"Topic1\", \"Topic1\", \"Topic1\", \"Topic1\", \"Topic1\", \"Topic1\", \"Topic1\", \"Topic1\", \"Topic1\", \"Topic1\", \"Topic1\", \"Topic1\", \"Topic1\", \"Topic1\", \"Topic1\", \"Topic1\", \"Topic1\", \"Topic1\", \"Topic1\", \"Topic1\", \"Topic1\", \"Topic1\", \"Topic1\", \"Topic1\", \"Topic1\", \"Topic1\", \"Topic1\", \"Topic1\", \"Topic1\", \"Topic1\", \"Topic1\", \"Topic1\", \"Topic1\", \"Topic1\", \"Topic1\", \"Topic1\", \"Topic2\", \"Topic2\", \"Topic2\", \"Topic2\", \"Topic2\", \"Topic2\", \"Topic2\", \"Topic2\", \"Topic2\", \"Topic2\", \"Topic2\", \"Topic2\", \"Topic2\", \"Topic2\", \"Topic2\", \"Topic2\", \"Topic2\", \"Topic2\", \"Topic2\", \"Topic2\", \"Topic2\", \"Topic2\", \"Topic2\", \"Topic2\", \"Topic2\", \"Topic2\", \"Topic2\", \"Topic2\", \"Topic2\", \"Topic2\", \"Topic2\", \"Topic2\", \"Topic2\", \"Topic2\", \"Topic2\", \"Topic2\", \"Topic2\", \"Topic2\", \"Topic2\", \"Topic2\", \"Topic2\", \"Topic2\", \"Topic2\", \"Topic2\", \"Topic2\", \"Topic2\", \"Topic2\", \"Topic2\", \"Topic2\", \"Topic2\", \"Topic2\", \"Topic2\", \"Topic2\", \"Topic2\", \"Topic2\", \"Topic2\", \"Topic2\", \"Topic2\", \"Topic2\", \"Topic2\", \"Topic2\", \"Topic2\", \"Topic2\", \"Topic2\", \"Topic2\", \"Topic2\", \"Topic2\", \"Topic2\", \"Topic2\", \"Topic2\", \"Topic2\", \"Topic2\", \"Topic2\", \"Topic2\", \"Topic2\", \"Topic2\", \"Topic2\", \"Topic3\", \"Topic3\", \"Topic3\", \"Topic3\", \"Topic3\", \"Topic3\", \"Topic3\", \"Topic3\", \"Topic3\", \"Topic3\", \"Topic3\", \"Topic3\", \"Topic3\", \"Topic3\", \"Topic3\", \"Topic3\", \"Topic3\", \"Topic3\", \"Topic3\", \"Topic3\", \"Topic3\", \"Topic3\", \"Topic3\", \"Topic3\", \"Topic3\", \"Topic3\", \"Topic3\", \"Topic3\", \"Topic3\", \"Topic3\", \"Topic3\", \"Topic3\", \"Topic3\", \"Topic3\", \"Topic3\", \"Topic3\", \"Topic3\", \"Topic3\", \"Topic3\", \"Topic3\", \"Topic3\", \"Topic3\", \"Topic3\", \"Topic3\", \"Topic3\", \"Topic3\", \"Topic3\", \"Topic3\", \"Topic3\", \"Topic3\", \"Topic3\", \"Topic3\", \"Topic3\", \"Topic3\", \"Topic3\", \"Topic3\", \"Topic3\", \"Topic3\", \"Topic3\", \"Topic3\", \"Topic3\", \"Topic3\", \"Topic3\", \"Topic3\", \"Topic3\", \"Topic3\", \"Topic3\", \"Topic3\", \"Topic3\", \"Topic3\", \"Topic3\", \"Topic3\", \"Topic3\", \"Topic3\", \"Topic3\", \"Topic3\", \"Topic3\", \"Topic3\", \"Topic3\", \"Topic3\", \"Topic3\", \"Topic3\", \"Topic3\", \"Topic3\", \"Topic3\", \"Topic3\", \"Topic4\", \"Topic4\", \"Topic4\", \"Topic4\", \"Topic4\", \"Topic4\", \"Topic4\", \"Topic4\", \"Topic4\", \"Topic4\", \"Topic4\", \"Topic4\", \"Topic4\", \"Topic4\", \"Topic4\", \"Topic4\", \"Topic4\", \"Topic4\", \"Topic4\", \"Topic4\", \"Topic4\", \"Topic4\", \"Topic4\", \"Topic4\", \"Topic4\", \"Topic4\", \"Topic4\", \"Topic4\", \"Topic4\", \"Topic4\", \"Topic4\", \"Topic4\", \"Topic4\", \"Topic4\", \"Topic4\", \"Topic4\", \"Topic4\", \"Topic4\", \"Topic4\", \"Topic4\", \"Topic4\", \"Topic4\", \"Topic4\", \"Topic4\", \"Topic4\", \"Topic4\", \"Topic4\", \"Topic4\", \"Topic4\", \"Topic4\", \"Topic4\", \"Topic4\", \"Topic4\", \"Topic4\", \"Topic4\", \"Topic4\", \"Topic5\", \"Topic5\", \"Topic5\", \"Topic5\", \"Topic5\", \"Topic5\", \"Topic5\", \"Topic5\", \"Topic5\", \"Topic5\", \"Topic5\", \"Topic5\", \"Topic5\", \"Topic5\", \"Topic5\", \"Topic5\", \"Topic5\", \"Topic5\", \"Topic5\", \"Topic5\", \"Topic5\", \"Topic5\", \"Topic5\", \"Topic5\", \"Topic5\", \"Topic5\", \"Topic5\", \"Topic5\", \"Topic5\", \"Topic5\", \"Topic5\", \"Topic5\", \"Topic5\", \"Topic5\", \"Topic5\", \"Topic5\", \"Topic5\", \"Topic5\", \"Topic5\", \"Topic5\", \"Topic5\", \"Topic5\", \"Topic5\", \"Topic5\", \"Topic5\", \"Topic5\", \"Topic5\", \"Topic5\", \"Topic5\", \"Topic5\", \"Topic5\", \"Topic5\", \"Topic5\", \"Topic5\", \"Topic5\", \"Topic5\", \"Topic5\", \"Topic5\", \"Topic5\", \"Topic5\", \"Topic5\", \"Topic5\", \"Topic5\", \"Topic5\", \"Topic5\", \"Topic5\", \"Topic5\", \"Topic5\", \"Topic6\", \"Topic6\", \"Topic6\", \"Topic6\", \"Topic6\", \"Topic6\", \"Topic6\", \"Topic6\", \"Topic6\", \"Topic6\", \"Topic6\", \"Topic6\", \"Topic6\", \"Topic6\", \"Topic6\", \"Topic6\", \"Topic6\", \"Topic6\", \"Topic6\", \"Topic6\", \"Topic6\", \"Topic6\", \"Topic6\", \"Topic6\", \"Topic6\", \"Topic6\", \"Topic6\", \"Topic6\", \"Topic6\", \"Topic6\", \"Topic6\", \"Topic6\", \"Topic6\", \"Topic6\", \"Topic6\", \"Topic7\", \"Topic7\", \"Topic7\", \"Topic7\", \"Topic7\", \"Topic7\", \"Topic7\", \"Topic7\", \"Topic7\", \"Topic7\", \"Topic7\", \"Topic7\", \"Topic7\", \"Topic7\", \"Topic7\", \"Topic7\", \"Topic7\", \"Topic7\", \"Topic7\", \"Topic7\", \"Topic7\", \"Topic7\", \"Topic7\", \"Topic7\", \"Topic7\", \"Topic7\", \"Topic7\", \"Topic7\", \"Topic7\", \"Topic7\", \"Topic7\", \"Topic7\", \"Topic7\", \"Topic7\", \"Topic7\", \"Topic7\", \"Topic7\", \"Topic7\", \"Topic7\", \"Topic7\", \"Topic7\", \"Topic7\", \"Topic7\", \"Topic7\", \"Topic7\", \"Topic7\", \"Topic7\", \"Topic7\", \"Topic7\", \"Topic7\", \"Topic7\", \"Topic7\", \"Topic7\", \"Topic7\", \"Topic7\", \"Topic7\", \"Topic7\", \"Topic7\", \"Topic7\", \"Topic7\", \"Topic7\", \"Topic7\", \"Topic7\", \"Topic7\", \"Topic7\", \"Topic7\", \"Topic7\"], \"Freq\": [1192.0, 1452.0, 1170.0, 753.0, 709.0, 301.0, 171.0, 357.0, 153.0, 443.0, 350.0, 118.0, 473.0, 385.0, 272.0, 120.0, 335.0, 736.0, 89.0, 453.0, 82.0, 324.0, 413.0, 175.0, 210.0, 74.0, 640.0, 73.0, 290.0, 280.0, 128.39451296935383, 19.67520195793778, 12.860698139996646, 29.22840927909173, 11.713838922801195, 12.144840242584499, 10.10803704907072, 70.63863104406549, 44.43256420622195, 19.838407477935235, 18.163247021523418, 10.065779217042252, 9.667540892791605, 8.361769445013303, 75.60172792499961, 15.835858075561937, 7.489068848191044, 7.451326865238386, 7.192961098615355, 108.85402796471054, 52.22162017387916, 8.595925125938846, 29.2538728943461, 6.802762906276799, 20.217324433367466, 33.2500504195525, 13.786920937064826, 29.990150465462072, 21.789990891447307, 11.199564811670102, 72.1465027923678, 50.811840586521264, 67.30185091398664, 36.05541142300231, 42.60257547992892, 107.79879809342111, 230.3326668783446, 337.47336608428316, 204.4497629748444, 32.5745328962503, 66.68639841813085, 69.84419843752936, 36.99427997920599, 134.70444268632258, 75.13201704309401, 47.77754445884242, 64.72754297917395, 119.1224684127775, 83.33805127346926, 279.19637142685747, 83.96311274549109, 75.89101781209354, 64.09062712173247, 50.145293168760276, 61.993486003267044, 73.21017240117231, 71.99354132474595, 86.78398851722687, 118.79370909154237, 151.69829354894753, 101.0260623880987, 140.14175932201792, 101.65920084961502, 110.26011585789158, 109.29566163936222, 122.93236810579184, 120.47538385849134, 151.3081695524584, 109.55404256074992, 97.19893625771093, 120.06267208077071, 124.5216513611517, 111.6344877176459, 108.89800591063101, 84.81497476055682, 94.26431765890268, 126.62795565378025, 112.16745125474262, 96.99067567188509, 100.40175780921979, 19.248145916060825, 24.780880374995004, 17.186403066656204, 15.938632408148441, 23.041344141448118, 20.73179708442714, 12.005452016881225, 20.617644068546973, 12.20369391244794, 17.68052161342468, 20.35783034905907, 33.84549352821261, 11.752745657482544, 17.120964780586316, 8.554215578725605, 13.695500797955319, 9.203156490535989, 7.7157905161459235, 10.714282524564572, 8.174446350684049, 14.437264135773946, 8.020631447896855, 7.042392650268916, 13.65372285866002, 14.616585502708267, 36.323467207412676, 11.791557015244058, 7.254815858931745, 10.27994311553965, 23.63651510913054, 135.80720430784993, 66.70057829303055, 18.817834624520486, 196.4111172473751, 16.42521608838664, 46.212875724039996, 21.221355906995605, 39.27823285856279, 34.365221370763244, 70.03307484164439, 151.03631518112857, 35.796385709301155, 367.57108155458695, 145.93747502518724, 107.7220653301268, 46.05960510985842, 137.890126564697, 174.96774310112426, 67.47787932765004, 54.25226015610211, 33.220547752846656, 28.00715067072259, 40.835968404496086, 214.84953381679458, 130.24337739687988, 50.91683574790982, 173.91922839618073, 91.28193186096779, 183.03678391586507, 138.02818895857325, 283.1223404250228, 110.93712632420686, 102.73397006112883, 76.06240956988437, 103.20292859555774, 95.80231265091525, 184.42020064422726, 113.53253717310905, 83.06626111506993, 83.5379865138557, 80.94895238352065, 81.08749393590399, 77.85649340651565, 98.40367074436246, 82.1220880777311, 82.04687270941584, 77.52961003355877, 18.20681875338116, 12.955929450274096, 10.480064101977842, 9.855207918621485, 17.564293184316735, 26.743717321923302, 16.97082023327663, 8.777479644429489, 10.358146718079464, 7.578153705897057, 14.618131328233286, 7.061623607647067, 12.784046987462721, 6.702384304028831, 6.649341848157258, 7.2924022416895395, 6.319855522283611, 8.610738656648595, 7.165080428562506, 6.144262201072522, 6.422939601506342, 6.069349042852176, 9.137967859387642, 5.848317395627488, 5.862238179078881, 35.13087720351555, 5.719991899882013, 6.550967975616941, 5.523718281046569, 9.138298024279267, 36.529798540565004, 50.8158815554099, 19.389699619714303, 20.03674993903699, 10.538763851277583, 11.495894996526955, 62.92436164049414, 10.435901891780102, 8.54495825034437, 24.648280144419083, 55.695674082885105, 21.68339164472024, 11.18587084234286, 14.161566896264963, 57.24138348111066, 62.09338368443211, 42.24831665765346, 18.877952067999296, 76.21996696086254, 18.08468325592812, 29.97736506920518, 21.7514563629746, 28.79114483152451, 119.03272289707323, 42.591474399601275, 204.43664247463695, 113.9372093733755, 154.2967296403632, 37.91292688615094, 49.95424894692619, 34.35850811972329, 62.87229076313554, 35.188408201096316, 43.831908861599636, 91.5351200178726, 95.22738093236879, 102.47697196468751, 70.4876734396045, 31.797133956095465, 104.01894408786544, 72.7413057280189, 40.596633469428596, 133.66478668041864, 44.812994575882655, 87.95914964802333, 110.76722595425896, 62.635697649522164, 51.33059888699364, 61.82933817522858, 60.27072361777151, 53.32504793714776, 75.20963059619737, 53.86116636088436, 58.006075606200355, 53.86748148457705, 52.74025120044809, 5.680106467939615, 1007.3078957718775, 4.303156323920062, 3.903263474486406, 10.81695203918627, 3.0508123628447628, 3.0231607551815456, 2.854200548577079, 275.3212506385061, 2.617027149924581, 57.65202090897506, 2.3941261353005827, 2.394411578881247, 129.55231853434677, 93.70188065515543, 2.2395346536462175, 2.2053015297159018, 2.2097685546132757, 2.158461759872314, 81.93746230082553, 2.0084754604999793, 3.595578198162882, 529.6307753295945, 191.06619611874845, 1.932490417505176, 2.307992337566514, 1.8778628567716045, 1.7846555690442865, 2.014816042411499, 83.25833270280982, 725.5040861721295, 896.0635698341655, 243.6470624407912, 108.7433837171417, 131.74588959334898, 214.2541602326787, 397.4555636483419, 253.91238887616578, 85.36036471815673, 265.9058545769432, 43.51881064906464, 150.7490712662803, 168.5585795725161, 160.9341574852241, 137.65436413027024, 150.4034894386731, 93.02932800750624, 76.31993462945027, 49.89215719652812, 119.36885272051865, 225.75335726296814, 76.67453861255994, 194.19605763104516, 113.59220936772867, 84.51849453866969, 83.59287130096835, 146.8310694484212, 18.13281359163277, 9.410050395188527, 7.515531313243318, 5.816231571108079, 5.663291787722704, 5.552928209335866, 104.47145374599704, 17.772873153813403, 4.954128660190899, 4.726800872748892, 11.109623355262901, 16.15960612734127, 4.058333018011694, 4.050520514418048, 11.164968137201065, 20.58916686946815, 3.939418982764586, 3.6897673113183562, 4.078382554233135, 5.990426315807212, 3.9855744661896577, 3.4202307878349036, 3.2620030570085223, 20.449572761274684, 3.173974341225609, 3.1508506653476513, 5.5379124369587736, 3.0085234813551134, 23.6125417030845, 31.87957579976255, 21.36926950842684, 11.371455812171543, 23.954780813477463, 53.40198031477582, 15.851831812197432, 164.08583566963077, 34.75572569183546, 14.881476327559385, 11.280155643945879, 53.95877150338301, 16.211521829178178, 27.843099612953104, 41.7478463832226, 19.358653524670814, 34.63130557479182, 25.430544369604053, 22.89512539784336, 13.9570283528234, 25.654118178121674, 84.8265822088145, 67.68193065148833, 17.738589169930226, 22.808892098742852, 23.29622965531565, 36.14192259158498, 28.376950668274056, 26.105782820130457, 21.843766425749656, 21.143561800588728, 32.70321869373299, 39.670552990175345, 29.43430674005214, 30.11191752741811, 30.700126795898004, 30.47280893983746, 25.662317185820264, 25.350198695950894, 171.02902522318942, 117.80066934223123, 89.1346371069142, 81.37878865541853, 73.30001638758606, 72.22366952238458, 49.06584179397214, 45.87584042712414, 42.58101337959451, 41.409485644922306, 37.91842886244772, 30.102985280024935, 29.889014709119415, 29.234729700645683, 27.393076880493176, 24.902612645832274, 23.571351348317748, 22.923296883109398, 22.777332333815153, 22.70331797512896, 22.71240916004911, 22.211033287605055, 21.797271098839104, 20.267081899869062, 20.233913660259145, 19.241974866035115, 18.026856153239024, 17.98942577086917, 17.72511563285864, 17.64987293449838, 21.5429222987941, 40.71473852061711, 47.975338800330675, 30.972013194349167, 20.446573334676625, 21.101432196632715, 15.628428825963516, 13.555006103427907, 6.255522594126261, 5.985516649729124, 5.467881453526683, 5.465994750754248, 5.207917506568824, 12.725890614631483, 4.827135972892938, 4.813806058323438, 16.865799155125483, 4.207971675063297, 4.0922407616554235, 8.315176237494775, 4.531447368861555, 3.8653503359105557, 3.7688127236262345, 3.6483581214705927, 3.6182879709271893, 24.495094426894603, 3.4436708855140945, 3.422970324053957, 3.2709519107546847, 3.6074493638836675, 3.1539423019968917, 3.1284893901144546, 3.048651465189457, 10.684267292834988, 2.971290166144947, 9.94979013038449, 11.44203418525389, 38.942241432422755, 6.329533286807195, 9.764277773069736, 10.822216466885717, 16.185349370552583, 5.204162073108768, 26.905182306799446, 6.442635673054606, 26.02468973964685, 5.481494960851855, 40.58287926559952, 7.885840742945164, 23.962140892038278, 11.605594636790304, 34.17633251854489, 16.719468086008995, 17.41054637306426, 17.755550029186224, 9.815806677935337, 8.316610750623967, 10.741836620991057, 17.36754476397994, 12.940679178543915, 13.012393196934374, 19.938743848697293, 22.12870805345226, 25.413324869023604, 15.920464379815522, 18.525843825245854, 16.73420985332656, 15.142632653453378, 15.601230061461123, 14.60480297079979, 14.528877457360059, 12.724191248528479], \"Term\": [\"stars\", \"great\", \"good\", \"love\", \"works\", \"star\", \"excelente\", \"excellent\", \"loves\", \"price\", \"perfect\", \"bueno\", \"product\", \"nice\", \"awesome\", \"gift\", \"condition\", \"new\", \"telefono\", \"screen\", \"buen\", \"far\", \"unlocked\", \"described\", \"expected\", \"bien\", \"like\", \"producto\", \"sim\", \"best\", \"locked\", \"blocked\", \"reboot\", \"imei\", \"jamaica\", \"misleading\", \"contacting\", \"refund\", \"provider\", \"restarting\", \"code\", \"apn\", \"nope\", \"fee\", \"stopped\", \"voicemail\", \"smh\", \"mms\", \"paperweight\", \"sprint\", \"told\", \"expired\", \"contacted\", \"unsatisfied\", \"cdma\", \"buyer\", \"exchange\", \"contact\", \"freezing\", \"refused\", \"compatible\", \"beware\", \"activate\", \"called\", \"gsm\", \"network\", \"verizon\", \"unlocked\", \"att\", \"unable\", \"send\", \"unlock\", \"connect\", \"return\", \"returned\", \"receive\", \"tried\", \"tmobile\", \"wont\", \"work\", \"carrier\", \"sent\", \"waste\", \"straight\", \"turn\", \"mobile\", \"calls\", \"said\", \"charge\", \"sim\", \"ok\", \"working\", \"service\", \"months\", \"didnt\", \"dont\", \"card\", \"buy\", \"seller\", \"doesnt\", \"star\", \"use\", \"got\", \"bought\", \"disappointed\", \"worked\", \"battery\", \"new\", \"time\", \"good\", \"dents\", \"skeptical\", \"cosmetic\", \"thumbs\", \"packaged\", \"signs\", \"grandson\", \"noticeable\", \"pleasantly\", \"performs\", \"marks\", \"wear\", \"blemishes\", \"hesitant\", \"blemish\", \"scuffs\", \"hesitate\", \"ton\", \"beautifully\", \"scuff\", \"dings\", \"wrapped\", \"nicks\", \"exceeded\", \"practically\", \"packaging\", \"pristine\", \"wrap\", \"nicely\", \"surprised\", \"scratches\", \"scratch\", \"conditions\", \"brand\", \"nervous\", \"accessories\", \"generic\", \"reader\", \"minor\", \"looked\", \"charger\", \"cable\", \"new\", \"looks\", \"box\", \"tell\", \"refurbished\", \"came\", \"original\", \"fingerprint\", \"finger\", \"usb\", \"headphones\", \"like\", \"condition\", \"quickly\", \"battery\", \"used\", \"works\", \"screen\", \"great\", \"far\", \"fast\", \"arrived\", \"perfect\", \"happy\", \"good\", \"price\", \"purchase\", \"im\", \"life\", \"note\", \"really\", \"love\", \"samsung\", \"buy\", \"got\", \"snapdragon\", \"exynos\", \"convoy\", \"beast\", \"ram\", \"processor\", \"language\", \"fun\", \"ads\", \"nfc\", \"spanish\", \"foreign\", \"disable\", \"movies\", \"alert\", \"unsupported\", \"laggy\", \"awsome\", \"navigate\", \"variant\", \"authentic\", \"africa\", \"brightness\", \"korean\", \"gt\", \"bixby\", \"strength\", \"transition\", \"smgu\", \"browser\", \"video\", \"storage\", \"weak\", \"favorite\", \"chinese\", \"ui\", \"gb\", \"watching\", \"mp\", \"budget\", \"memory\", \"space\", \"pro\", \"english\", \"android\", \"version\", \"app\", \"cameras\", \"apps\", \"download\", \"feature\", \"videos\", \"flip\", \"camera\", \"slow\", \"battery\", \"life\", \"samsung\", \"display\", \"iphone\", \"international\", \"features\", \"gets\", \"pictures\", \"galaxy\", \"note\", \"use\", \"better\", \"clear\", \"screen\", \"dont\", \"model\", \"great\", \"long\", \"like\", \"good\", \"quality\", \"old\", \"best\", \"im\", \"ive\", \"love\", \"really\", \"price\", \"fast\", \"time\", \"trustworthy\", \"stars\", \"impeccable\", \"gud\", \"shipment\", \"enjoys\", \"aaaaa\", \"thankyou\", \"excellent\", \"arabic\", \"delivery\", \"jus\", \"looses\", \"described\", \"thank\", \"refreshed\", \"lovin\", \"phonegreat\", \"phoneworking\", \"thanks\", \"thr\", \"niece\", \"love\", \"awesome\", \"phoneexcellent\", \"impress\", \"awesomeness\", \"operable\", \"efficiency\", \"exactly\", \"good\", \"great\", \"nice\", \"value\", \"expected\", \"perfect\", \"works\", \"price\", \"satisfied\", \"product\", \"complaints\", \"best\", \"condition\", \"far\", \"quality\", \"happy\", \"amazing\", \"deal\", \"shipping\", \"fast\", \"like\", \"advertised\", \"new\", \"buy\", \"purchase\", \"samsung\", \"loves\", \"sister\", \"granddaughter\", \"hubby\", \"defectuoso\", \"recomendable\", \"satisfecho\", \"gift\", \"brother\", \"referbished\", \"nephew\", \"articulo\", \"present\", \"teenage\", \"carpet\", \"boyfriend\", \"fragile\", \"upper\", \"tarjeta\", \"korea\", \"law\", \"blur\", \"greate\", \"shatter\", \"pink\", \"necesito\", \"recipient\", \"foot\", \"greay\", \"likes\", \"personal\", \"crack\", \"shattered\", \"friend\", \"husband\", \"reported\", \"star\", \"cracked\", \"birthday\", \"lovely\", \"wife\", \"mother\", \"daughter\", \"broke\", \"christmas\", \"glass\", \"mom\", \"fake\", \"fell\", \"line\", \"screen\", \"bought\", \"drop\", \"junk\", \"dropped\", \"bad\", \"case\", \"loved\", \"sucks\", \"water\", \"work\", \"great\", \"got\", \"use\", \"good\", \"stars\", \"buy\", \"like\", \"excelente\", \"bueno\", \"telefono\", \"buen\", \"bien\", \"producto\", \"excelent\", \"perfecto\", \"celular\", \"llego\", \"funciona\", \"precio\", \"buena\", \"nuevo\", \"bateria\", \"camara\", \"calidad\", \"equipo\", \"pantalla\", \"rapido\", \"gusto\", \"compra\", \"recomiendo\", \"mejor\", \"tiempo\", \"gracias\", \"si\", \"cargador\", \"solo\", \"compre\", \"timely\", \"sim\", \"stars\", \"card\", \"loving\", \"penny\", \"malo\", \"blacklisted\", \"excelentes\", \"recomended\", \"fecha\", \"calienta\", \"ty\", \"expectation\", \"da\", \"prefect\", \"met\", \"gp\", \"productos\", \"batery\", \"evidence\", \"tmoblie\", \"recharged\", \"cent\", \"practico\", \"enjoying\", \"server\", \"camaras\", \"itits\", \"blacked\", \"ventures\", \"bat\", \"grandmother\", \"transaction\", \"everithing\", \"recomend\", \"meet\", \"reliable\", \"dot\", \"couldn\", \"moment\", \"friendly\", \"shock\", \"color\", \"camper\", \"expectations\", \"girl\", \"broken\", \"fabulous\", \"durable\", \"overheats\", \"defective\", \"garbage\", \"crap\", \"piece\", \"rip\", \"equipment\", \"trash\", \"worst\", \"basic\", \"volume\", \"worth\", \"money\", \"buy\", \"return\", \"screen\", \"product\", \"love\", \"good\", \"stars\", \"great\", \"work\"], \"Total\": [1192.0, 1452.0, 1170.0, 753.0, 709.0, 301.0, 171.0, 357.0, 153.0, 443.0, 350.0, 118.0, 473.0, 385.0, 272.0, 120.0, 335.0, 736.0, 89.0, 453.0, 82.0, 324.0, 413.0, 175.0, 210.0, 74.0, 640.0, 73.0, 290.0, 280.0, 132.39655658299162, 20.52596706449542, 13.706264576222667, 31.28923938519453, 12.546477873696826, 13.109382201110709, 10.939995448913088, 76.70382429520542, 48.29709941541011, 21.575322532336166, 19.78240536471173, 11.044386274154231, 10.661918269188712, 9.231376535676471, 83.60382543541377, 17.551834675277636, 8.321021107527054, 8.283795833018926, 8.024985943859331, 121.59429695098393, 58.382927940430385, 9.627824866867984, 32.78431758533428, 7.635082560228621, 22.713811093254552, 37.391372450834616, 15.528833057123004, 33.8392220964831, 24.588086344083855, 12.663513168973335, 81.7240616432105, 57.55578209019961, 76.5801844547276, 40.80559182847983, 48.85089337886562, 126.46704300985252, 278.3753770029408, 413.79357599107044, 256.367638742767, 37.94919719800675, 81.25873268005718, 85.41282083558933, 43.49967109698077, 174.6281511569418, 94.1049520062008, 58.23969187288655, 81.42149439300843, 161.25433755608353, 108.10585941060097, 433.31691024701485, 111.30697323136555, 99.78077582486955, 82.56301331807211, 62.05709893909255, 80.47160544890208, 100.84273647435519, 100.33529962542485, 129.22531230694034, 203.4934349320897, 290.3529643210192, 164.39390607659516, 290.1232631234762, 178.86048096858602, 204.9322228056007, 215.2726561101551, 269.8050074711572, 265.69390919920437, 439.6220174780284, 230.64638518197683, 183.602112502465, 301.2181995361885, 375.1527142332562, 297.54168386499043, 316.5327598262384, 140.90534164806095, 204.16887352848454, 593.1980857332765, 736.6779300621503, 285.78627124726194, 1170.268844937397, 20.11311790779817, 26.00158526703055, 18.040961160827667, 16.7737093910051, 24.541592268764727, 22.15944786097163, 12.839188980224229, 22.06739724550551, 13.088150271419245, 19.0692806950879, 21.96172734346494, 36.534103097405634, 12.738801468917044, 18.65859204195698, 9.386891152915783, 15.045766967168223, 10.12718871086627, 8.586509597809792, 11.933011896003974, 9.107241226562595, 16.10857643779078, 8.949140959179141, 7.879332159977626, 15.335374069101702, 16.445590681433615, 40.98798342493974, 13.425928369333134, 8.270416863207432, 11.753089976849038, 27.03759053572869, 156.12159176359987, 77.57798752839955, 21.98156517575052, 264.7745511549509, 19.06451390735412, 57.301502789140564, 25.16547594316069, 51.39533264556237, 44.56059309758064, 100.33273919464581, 253.4811576210655, 47.22531130335115, 736.6779300621503, 250.48029519847424, 175.96203110369518, 64.81468549096894, 244.3972070417963, 332.094329031051, 105.73906914119345, 81.00094336475803, 44.470210675830984, 36.13696278807768, 60.908259927496196, 640.5180280735052, 335.57509547399604, 86.40253467058429, 593.1980857332765, 225.69582846039364, 709.8769831411037, 453.768294739255, 1452.5335851086504, 324.6736734346807, 288.1387357070903, 181.50742903324533, 350.384054313948, 315.3926586517112, 1170.268844937397, 443.9527065809766, 253.27166990388116, 268.7405909644084, 280.50177099146185, 285.2459870858959, 269.6091589074988, 753.443544866771, 437.290958026424, 439.6220174780284, 297.54168386499043, 19.093685677997406, 13.780299622775702, 11.303674090418408, 10.677638790320376, 19.079135782649523, 29.188499281546044, 18.524032824221777, 9.60040938925651, 11.387337888408831, 8.400637201712419, 16.265126648008717, 7.884689748957363, 14.308616705770138, 7.525049232779909, 7.4744343886898355, 8.208487204106262, 7.142619043183325, 9.732657496298984, 8.110091639731538, 6.967170623139442, 7.293340347183116, 6.891957889205287, 10.408788915879935, 6.670981973785159, 6.688157054830034, 40.1848603964851, 6.543340022132705, 7.509614785203184, 6.346519776721433, 10.516331113776896, 42.87105683244756, 61.13598352398038, 22.83958784608969, 23.719450109119304, 12.233930897074725, 13.43780611487568, 81.59061516393119, 12.190555792761419, 9.872663958821013, 31.555218800615453, 77.37823196397659, 27.571720765047605, 13.32500958781014, 17.413537629042022, 86.34964185448727, 95.80412009898711, 61.55171618453313, 24.335051796167583, 126.31070407913835, 23.293004832701946, 42.782793679935565, 29.361445904971955, 41.79968426661472, 244.69985604440603, 73.72004367383309, 593.1980857332765, 280.50177099146185, 437.290958026424, 64.80015246366486, 98.72431517386154, 57.84778807344648, 141.0526543038474, 60.28775937308827, 84.74623914518112, 260.9674658223519, 285.2459870858959, 375.1527142332562, 212.9947118050435, 54.010403826165245, 453.768294739255, 269.8050074711572, 93.1908484489641, 1452.5335851086504, 117.36282803682296, 640.5180280735052, 1170.268844937397, 277.54494574606764, 164.97376997481803, 280.8586064050051, 268.7405909644084, 198.89887615825978, 753.443544866771, 269.6091589074988, 443.9527065809766, 288.1387357070903, 285.78627124726194, 6.528554819790563, 1192.984749261851, 5.17996229716327, 4.745257397407075, 13.26807732917056, 3.893645818111472, 3.865154385097713, 3.697371289741726, 357.5818436991543, 3.460712307986985, 77.9139861653028, 3.2379961801683006, 3.239121989321185, 175.9898329091182, 128.6227634689823, 3.0819058711062683, 3.047926466508271, 3.0606721129091583, 3.0004534327480172, 115.54818981688761, 2.8532851003819673, 5.110859698728459, 753.443544866771, 272.89071969555596, 2.774983420804715, 3.341173927765049, 2.721278998243425, 2.6305874123069737, 2.9845011061141538, 124.1774523504564, 1170.268844937397, 1452.5335851086504, 385.3251016671817, 169.6255516254561, 210.30433963702805, 350.384054313948, 709.8769831411037, 443.9527065809766, 141.13183540783731, 473.1936060327374, 72.32626292955575, 280.8586064050051, 335.57509547399604, 324.6736734346807, 277.54494574606764, 315.3926586517112, 192.6999119359816, 160.47058901641486, 99.16660338670786, 288.1387357070903, 640.5180280735052, 171.3293689838422, 736.6779300621503, 439.6220174780284, 253.27166990388116, 437.290958026424, 153.54731880922432, 19.406120547980866, 10.223084586917, 8.539029577976308, 6.63275521431618, 6.49659192840046, 6.372044625517668, 120.53364734850098, 20.57510996683861, 5.768715764791961, 5.539541659190073, 13.060853123125016, 19.28962272868882, 4.874008780552073, 4.864992667314033, 13.419428495707042, 24.843608953289408, 4.754923000781091, 4.510757236177043, 4.998993727760769, 7.3452873182362115, 4.916306007947228, 4.233041132260682, 4.07532354046236, 25.709763470087324, 3.9931085294075257, 3.9641605688979853, 7.0174158864762886, 3.821227870395751, 30.112301554469827, 44.5358742215517, 29.626273505404136, 15.262623786997649, 33.4499815532734, 79.13434058783703, 22.244059322588956, 301.2181995361885, 53.856878009184825, 21.361295779704378, 15.658029678725658, 95.92178612722435, 24.070390668169868, 45.30194402403213, 75.7680766932813, 30.289333284374134, 62.01391100065012, 42.8586602068931, 38.00603171627561, 21.72948178506874, 58.897067407976515, 453.768294739255, 316.5327598262384, 33.69159831856745, 54.61602730373198, 62.914869020478044, 213.6225043973737, 121.17927482247481, 97.42462037362753, 60.89127655595105, 55.34638268707409, 433.31691024701485, 1452.5335851086504, 297.54168386499043, 375.1527142332562, 1170.268844937397, 1192.984749261851, 439.6220174780284, 640.5180280735052, 171.83046400700937, 118.6021174872787, 89.9361113599536, 82.1802209854729, 74.10152440222232, 73.02519128128482, 49.8675357105274, 46.67725526349402, 43.382717214017426, 42.211027315607225, 38.719871500688676, 30.9043788471863, 30.69042536226276, 30.036228033650215, 28.19477430581966, 25.70556715893909, 24.372764900665278, 23.724761395038303, 23.579426651280254, 23.504749832491612, 23.514814996284613, 23.01246493406444, 22.598658408959842, 21.068578342260032, 21.03555449415936, 20.043385705741656, 18.829789991476098, 18.79091916256356, 18.526648038618927, 18.451432364121736, 24.38014465391133, 290.3529643210192, 1192.984749261851, 265.69390919920437, 42.15467396673506, 21.897314614703834, 16.425081833027416, 14.349028126795265, 7.055716219468009, 6.778580299377338, 6.264380373617599, 6.2646539730755615, 6.002849436170585, 14.712280552702907, 5.620997235202452, 5.60701071969563, 19.83328512269425, 5.007135284905304, 4.886182066274106, 9.988084592370315, 5.457556046551804, 4.6604186270021115, 4.565600479589255, 4.444050547961219, 4.414598254450593, 29.98968362255319, 4.237908456765885, 4.219375946784214, 4.064499198164561, 4.510627038369647, 3.9595456164484863, 3.9293233112763852, 3.8433558857713415, 13.477923419494363, 3.764087597189464, 12.625560877152553, 15.057239850132042, 56.00580945425139, 8.261561712442642, 13.386635732597462, 15.85681251282369, 27.04479071666563, 6.95637134817385, 52.93414750079965, 9.058254653056329, 53.00506246539635, 7.418764082880734, 101.48492547856921, 12.025342382099598, 55.66518291211253, 20.842957345191188, 98.68431749791424, 39.36640838570935, 42.708702808141766, 44.97453456151427, 17.66905377194119, 14.01498305789961, 22.94415896164314, 59.33083376240303, 34.01148958756213, 42.94251743901561, 155.20946534192356, 235.00863446641372, 439.6220174780284, 174.6281511569418, 453.768294739255, 473.1936060327374, 753.443544866771, 1170.268844937397, 1192.984749261851, 1452.5335851086504, 433.31691024701485], \"loglift\": [30.0, 29.0, 28.0, 27.0, 26.0, 25.0, 24.0, 23.0, 22.0, 21.0, 20.0, 19.0, 18.0, 17.0, 16.0, 15.0, 14.0, 13.0, 12.0, 11.0, 10.0, 9.0, 8.0, 7.0, 6.0, 5.0, 4.0, 3.0, 2.0, 1.0, 1.3015, 1.2899, 1.2685, 1.2641, 1.2635, 1.2558, 1.2531, 1.2498, 1.2488, 1.2483, 1.2468, 1.2394, 1.2343, 1.2333, 1.2316, 1.2293, 1.2269, 1.2263, 1.2227, 1.2215, 1.2207, 1.2188, 1.2183, 1.2168, 1.2158, 1.2148, 1.2132, 1.2114, 1.2114, 1.2093, 1.2075, 1.2076, 1.203, 1.2084, 1.1953, 1.1725, 1.1427, 1.1283, 1.1059, 1.1795, 1.1346, 1.131, 1.1702, 1.0726, 1.107, 1.1342, 1.1027, 1.0294, 1.072, 0.8926, 1.0503, 1.0585, 1.0789, 1.1191, 1.0713, 1.012, 1.0003, 0.9341, 0.794, 0.683, 0.8453, 0.6045, 0.7672, 0.7124, 0.6543, 0.5461, 0.5413, 0.2656, 0.5877, 0.6962, 0.4124, 0.2293, 0.3519, 0.2652, 0.8246, 0.5594, -0.2121, -0.55, 0.2516, -1.1236, 1.4865, 1.4824, 1.4819, 1.4794, 1.4674, 1.4639, 1.4633, 1.4625, 1.4605, 1.4549, 1.4546, 1.454, 1.4499, 1.4445, 1.4376, 1.4364, 1.4348, 1.4235, 1.4227, 1.4224, 1.4209, 1.4209, 1.4182, 1.4143, 1.4126, 1.4097, 1.4007, 1.3994, 1.3965, 1.396, 1.3911, 1.3794, 1.3751, 1.2318, 1.3815, 1.3154, 1.36, 1.2616, 1.2707, 1.1709, 1.0127, 1.2534, 0.8352, 0.9903, 1.0398, 1.1889, 0.9581, 0.8896, 1.0813, 1.1297, 1.2388, 1.2756, 1.1307, 0.4381, 0.584, 1.0016, 0.3035, 0.6252, 0.1751, 0.3403, -0.1047, 0.4566, 0.4992, 0.6607, 0.3081, 0.3389, -0.3173, 0.1668, 0.4156, 0.362, 0.2877, 0.2726, 0.2884, -0.5051, -0.1419, -0.1482, 0.1856, 1.5593, 1.5452, 1.5312, 1.5267, 1.5241, 1.5194, 1.5193, 1.5172, 1.5121, 1.5038, 1.5001, 1.4966, 1.4942, 1.4911, 1.4899, 1.4885, 1.4845, 1.4844, 1.483, 1.4812, 1.4798, 1.4797, 1.4766, 1.4752, 1.475, 1.4724, 1.4724, 1.4703, 1.468, 1.4664, 1.4468, 1.422, 1.4431, 1.4381, 1.4577, 1.4508, 1.3471, 1.4514, 1.4624, 1.3598, 1.278, 1.3666, 1.4319, 1.4001, 1.1957, 1.1732, 1.2305, 1.3529, 1.1017, 1.3538, 1.2512, 1.3068, 1.234, 0.8862, 1.0582, 0.5416, 0.7059, 0.5651, 1.0708, 0.9256, 1.0859, 0.7988, 1.0684, 0.9475, 0.5592, 0.5098, 0.3092, 0.501, 1.077, 0.1338, 0.2961, 0.7759, -0.7789, 0.6441, -0.3786, -0.7507, 0.1182, 0.4393, 0.0934, 0.1119, 0.2905, -0.6975, -0.0037, -0.4283, -0.0701, -0.083, 1.8292, 1.7992, 1.7829, 1.773, 1.7641, 1.7244, 1.7227, 1.7095, 1.7069, 1.6889, 1.6672, 1.6664, 1.6662, 1.662, 1.6516, 1.6491, 1.6448, 1.6426, 1.639, 1.6246, 1.6173, 1.6167, 1.6159, 1.6119, 1.6065, 1.5984, 1.5974, 1.5804, 1.5755, 1.5686, 1.4902, 1.4853, 1.51, 1.5238, 1.5007, 1.4765, 1.3884, 1.4096, 1.4656, 1.392, 1.4604, 1.3461, 1.2798, 1.2665, 1.2671, 1.2279, 1.2401, 1.2252, 1.2814, 1.0871, 0.9255, 1.1644, 0.6351, 0.6151, 0.8709, 0.3137, 2.6198, 2.5967, 2.5817, 2.5369, 2.5332, 2.5273, 2.527, 2.5215, 2.5182, 2.5123, 2.5059, 2.5028, 2.4875, 2.4814, 2.4813, 2.4806, 2.4767, 2.4764, 2.4637, 2.461, 2.4607, 2.4547, 2.4514, 2.442, 2.4357, 2.435, 2.4349, 2.4278, 2.4254, 2.4214, 2.3302, 2.3379, 2.3703, 2.3307, 2.2713, 2.3258, 2.0571, 2.2266, 2.3031, 2.3366, 2.0893, 2.2693, 2.1778, 2.0685, 2.2169, 2.082, 2.1426, 2.1577, 2.2219, 1.8335, 0.9876, 1.122, 2.0231, 1.7914, 1.6711, 0.8878, 1.2129, 1.3476, 1.6394, 1.7023, 0.0806, -0.9359, 0.3512, 0.1422, -0.9762, -1.0028, -0.1763, -0.5649, 2.8467, 2.8446, 2.8425, 2.8416, 2.8405, 2.8404, 2.8352, 2.8341, 2.8328, 2.8322, 2.8305, 2.8251, 2.825, 2.8244, 2.8226, 2.8197, 2.818, 2.8171, 2.8168, 2.8167, 2.8167, 2.816, 2.8153, 2.8126, 2.8126, 2.8106, 2.8078, 2.8078, 2.8072, 2.807, 2.7277, 0.8869, -0.3621, 0.7022, 2.1279, 2.9181, 2.9054, 2.8982, 2.8347, 2.8307, 2.8191, 2.8187, 2.8131, 2.8101, 2.8029, 2.8026, 2.793, 2.7812, 2.7778, 2.7718, 2.7692, 2.7681, 2.7633, 2.7578, 2.7562, 2.7527, 2.7476, 2.7459, 2.7379, 2.7317, 2.7276, 2.7272, 2.7235, 2.7228, 2.7186, 2.7169, 2.6806, 2.5917, 2.6887, 2.6396, 2.5731, 2.4417, 2.6649, 2.2784, 2.6144, 2.2438, 2.6525, 2.0386, 2.5332, 2.1122, 2.3696, 1.8947, 2.0988, 2.0578, 2.0257, 2.3673, 2.4332, 2.1962, 1.7266, 1.9888, 1.7612, 0.903, 0.5924, 0.1045, 0.5601, -0.2433, -0.3869, -0.952, -1.3625, -1.4477, -1.6498, -0.5728], \"logprob\": [30.0, 29.0, 28.0, 27.0, 26.0, 25.0, 24.0, 23.0, 22.0, 21.0, 20.0, 19.0, 18.0, 17.0, 16.0, 15.0, 14.0, 13.0, 12.0, 11.0, 10.0, 9.0, 8.0, 7.0, 6.0, 5.0, 4.0, 3.0, 2.0, 1.0, -5.2687, -7.1444, -7.5696, -6.7486, -7.663, -7.6269, -7.8104, -5.8662, -6.3298, -7.1362, -7.2244, -7.8146, -7.855, -8.0001, -5.7983, -7.3615, -8.1103, -8.1154, -8.1507, -5.4338, -6.1683, -7.9725, -6.7478, -8.2065, -7.1172, -6.6197, -7.5001, -6.7229, -7.0423, -7.7079, -5.8451, -6.1957, -5.9146, -6.5387, -6.3719, -5.4435, -4.6843, -4.3023, -4.8035, -6.6403, -5.9238, -5.8775, -6.513, -5.2207, -5.8045, -6.2572, -5.9536, -5.3436, -5.7009, -4.4919, -5.6934, -5.7945, -5.9635, -6.2089, -5.9968, -5.8304, -5.8472, -5.6604, -5.3464, -5.1019, -5.5084, -5.1811, -5.5022, -5.4209, -5.4297, -5.3121, -5.3323, -5.1045, -5.4274, -5.547, -5.3358, -5.2993, -5.4086, -5.4334, -5.6833, -5.5777, -5.2825, -5.4038, -5.5492, -5.5146, -6.9681, -6.7154, -7.0814, -7.1568, -6.7882, -6.8938, -7.4401, -6.8994, -7.4238, -7.053, -6.912, -6.4037, -7.4614, -7.0852, -7.7791, -7.3084, -7.706, -7.8822, -7.5539, -7.8245, -7.2557, -7.8435, -7.9736, -7.3115, -7.2434, -6.333, -7.4581, -7.9438, -7.5953, -6.7627, -5.0143, -5.7253, -6.9907, -4.6453, -7.1267, -6.0923, -6.8705, -6.2548, -6.3885, -5.6765, -4.908, -6.3477, -4.0186, -4.9423, -5.246, -6.0956, -4.9991, -4.7609, -5.7137, -5.9319, -6.4223, -6.593, -6.2159, -4.5556, -5.0561, -5.9953, -4.7669, -5.4116, -4.7158, -4.9981, -4.2796, -5.2165, -5.2934, -5.594, -5.2888, -5.3632, -4.7083, -5.1934, -5.5059, -5.5002, -5.5317, -5.53, -5.5706, -5.3364, -5.5173, -5.5182, -5.5748, -6.9473, -7.2876, -7.4997, -7.5611, -6.9833, -6.5628, -7.0176, -7.6769, -7.5114, -7.8239, -7.1669, -7.8945, -7.3009, -7.9467, -7.9546, -7.8623, -8.0054, -7.6961, -7.8799, -8.0336, -7.9893, -8.0459, -7.6367, -8.083, -8.0806, -6.2901, -8.1052, -7.9695, -8.1401, -7.6367, -6.251, -5.9209, -6.8844, -6.8516, -7.4941, -7.4071, -5.7072, -7.5039, -7.7038, -6.6444, -5.8292, -6.7726, -7.4345, -7.1986, -5.8019, -5.7205, -6.1056, -6.9111, -5.5155, -6.9541, -6.4487, -6.7695, -6.4891, -5.0697, -6.0975, -4.5289, -5.1135, -4.8103, -6.2138, -5.938, -6.3123, -5.708, -6.2884, -6.0688, -5.3324, -5.2929, -5.2195, -5.5937, -6.3898, -5.2046, -5.5622, -6.1454, -4.9538, -6.0466, -5.3723, -5.1417, -5.7118, -5.9108, -5.7248, -5.7503, -5.8727, -5.5289, -5.8627, -5.7886, -5.8626, -5.8838, -7.7506, -2.5726, -8.0283, -8.1258, -7.1065, -8.3722, -8.3813, -8.4388, -3.8697, -8.5256, -5.4332, -8.6146, -8.6145, -4.6235, -4.9475, -8.6813, -8.6967, -8.6947, -8.7182, -5.0817, -8.7902, -8.2079, -3.2154, -4.235, -8.8288, -8.6512, -8.8575, -8.9084, -8.7871, -5.0657, -2.9007, -2.6896, -3.9919, -4.7986, -4.6067, -4.1204, -3.5025, -3.9506, -5.0407, -3.9045, -5.7144, -4.472, -4.3603, -4.4066, -4.5629, -4.4743, -4.9547, -5.1527, -5.5777, -4.7054, -4.0682, -5.148, -4.2187, -4.755, -5.0506, -5.0616, -3.8021, -5.8937, -6.5496, -6.7744, -7.0308, -7.0574, -7.0771, -4.1425, -5.9137, -7.1912, -7.2382, -6.3836, -6.0089, -7.3906, -7.3926, -6.3786, -5.7666, -7.4204, -7.4858, -7.3857, -7.0012, -7.4087, -7.5617, -7.6091, -5.7735, -7.6364, -7.6437, -7.0798, -7.69, -5.6296, -5.3294, -5.7295, -6.3603, -5.6152, -4.8136, -6.0281, -3.691, -5.2431, -6.0913, -6.3684, -4.8032, -6.0057, -5.4648, -5.0598, -5.8283, -5.2467, -5.5555, -5.6605, -6.1554, -5.5467, -4.3508, -4.5766, -5.9157, -5.6643, -5.6431, -5.204, -5.4458, -5.5293, -5.7075, -5.7401, -5.3039, -5.1108, -5.4093, -5.3865, -5.3671, -5.3746, -5.5464, -5.5586, -3.4627, -3.8356, -4.1144, -4.2054, -4.31, -4.3248, -4.7114, -4.7786, -4.8532, -4.881, -4.9691, -5.1999, -5.2071, -5.2292, -5.2943, -5.3896, -5.4445, -5.4724, -5.4788, -5.482, -5.4816, -5.504, -5.5228, -5.5956, -5.5972, -5.6475, -5.7127, -5.7148, -5.7296, -5.7338, -5.5345, -4.898, -4.7339, -5.1715, -5.5867, -5.4515, -5.7518, -5.8941, -6.6674, -6.7115, -6.802, -6.8023, -6.8507, -5.9572, -6.9266, -6.9294, -5.6756, -7.0639, -7.0918, -6.3828, -6.9898, -7.1488, -7.1741, -7.2066, -7.2149, -5.3024, -7.2643, -7.2703, -7.3158, -7.2179, -7.3522, -7.3603, -7.3862, -6.1321, -7.4119, -6.2033, -6.0636, -4.8388, -6.6556, -6.2221, -6.1193, -5.7167, -6.8514, -5.2085, -6.6379, -5.2418, -6.7995, -4.7975, -6.4358, -5.3244, -6.0494, -4.9693, -5.6843, -5.6438, -5.6242, -6.2169, -6.3826, -6.1267, -5.6463, -5.9405, -5.935, -5.5082, -5.404, -5.2656, -5.7332, -5.5817, -5.6834, -5.7833, -5.7535, -5.8195, -5.8247, -5.9574]}, \"token.table\": {\"Topic\": [4, 1, 2, 3, 4, 7, 1, 2, 3, 5, 3, 1, 2, 3, 4, 5, 6, 3, 3, 1, 2, 3, 4, 1, 2, 3, 4, 5, 1, 1, 2, 3, 1, 2, 3, 5, 7, 4, 1, 2, 3, 4, 5, 5, 7, 1, 2, 3, 4, 6, 3, 1, 2, 3, 4, 5, 7, 4, 3, 1, 2, 3, 4, 5, 7, 1, 2, 3, 5, 7, 7, 6, 4, 7, 1, 2, 3, 4, 5, 7, 3, 1, 2, 1, 2, 3, 4, 5, 7, 1, 2, 3, 4, 5, 7, 1, 3, 5, 6, 1, 2, 3, 5, 2, 3, 5, 7, 7, 2, 2, 1, 5, 1, 2, 3, 4, 5, 7, 1, 2, 3, 5, 7, 1, 5, 1, 2, 3, 4, 5, 2, 3, 1, 2, 3, 5, 7, 1, 2, 3, 5, 7, 3, 5, 1, 3, 2, 3, 7, 6, 6, 6, 1, 2, 3, 4, 5, 7, 1, 2, 3, 5, 1, 2, 3, 6, 6, 7, 1, 2, 3, 1, 2, 3, 5, 7, 6, 7, 1, 2, 3, 4, 5, 6, 7, 1, 2, 3, 4, 5, 7, 1, 2, 3, 4, 2, 7, 1, 2, 3, 6, 7, 6, 5, 1, 2, 3, 6, 1, 2, 3, 5, 1, 3, 6, 7, 1, 2, 3, 5, 1, 2, 3, 4, 5, 7, 1, 3, 1, 2, 3, 5, 1, 2, 3, 4, 5, 1, 3, 1, 2, 3, 4, 5, 6, 7, 1, 3, 6, 7, 1, 2, 3, 4, 5, 7, 6, 6, 1, 2, 3, 4, 5, 7, 2, 3, 1, 2, 3, 1, 2, 3, 7, 1, 2, 7, 1, 3, 2, 1, 3, 5, 7, 1, 2, 3, 5, 1, 2, 3, 5, 7, 1, 3, 5, 7, 7, 1, 2, 3, 4, 5, 1, 2, 3, 4, 5, 7, 1, 2, 5, 7, 5, 1, 2, 3, 4, 2, 1, 2, 4, 6, 1, 2, 3, 4, 5, 6, 7, 1, 2, 2, 3, 1, 2, 3, 4, 5, 7, 1, 2, 3, 4, 5, 1, 2, 3, 4, 5, 6, 7, 1, 2, 3, 5, 6, 7, 5, 7, 1, 3, 1, 2, 3, 5, 7, 1, 2, 3, 5, 2, 3, 5, 7, 4, 3, 7, 1, 2, 7, 4, 1, 3, 7, 6, 7, 7, 1, 2, 3, 4, 2, 3, 6, 6, 7, 1, 2, 3, 4, 5, 6, 7, 1, 3, 1, 2, 7, 2, 3, 7, 1, 2, 3, 4, 7, 1, 3, 2, 3, 7, 1, 3, 5, 7, 1, 2, 3, 4, 5, 7, 1, 2, 3, 4, 5, 2, 3, 1, 2, 3, 1, 2, 3, 4, 5, 7, 7, 1, 2, 3, 5, 7, 1, 2, 3, 1, 2, 3, 1, 2, 3, 5, 7, 5, 3, 3, 5, 1, 3, 5, 6, 1, 3, 5, 7, 2, 3, 7, 3, 6, 1, 2, 3, 4, 5, 6, 7, 1, 2, 3, 5, 7, 1, 2, 3, 6, 7, 2, 3, 5, 1, 2, 3, 5, 1, 2, 3, 5, 3, 7, 1, 2, 3, 5, 7, 1, 2, 3, 4, 5, 6, 7, 1, 2, 3, 4, 5, 7, 7, 6, 5, 7, 2, 1, 2, 3, 4, 5, 6, 7, 5, 5, 1, 2, 3, 6, 3, 4, 6, 1, 2, 3, 4, 5, 7, 1, 2, 3, 7, 2, 3, 2, 5, 1, 2, 3, 4, 5, 7, 1, 2, 3, 4, 5, 7, 1, 3, 4, 4, 1, 3, 6, 1, 2, 3, 4, 5, 7, 7, 1, 2, 3, 4, 5, 7, 1, 1, 3, 5, 7, 4, 5, 3, 3, 1, 3, 3, 5, 1, 2, 3, 4, 5, 7, 1, 2, 3, 4, 5, 6, 7, 2, 3, 5, 1, 2, 3, 5, 6, 1, 2, 3, 1, 2, 3, 4, 5, 7, 1, 2, 3, 4, 1, 2, 3, 4, 5, 7, 4, 1, 2, 3, 4, 5, 7, 1, 2, 3, 4, 5, 7, 2, 5, 7, 2, 4, 5, 4, 2, 5, 6, 7, 7, 1, 2, 2, 3, 7, 6, 1, 2, 3, 4, 2, 7, 1, 2, 3, 5, 1, 1, 1, 2, 3, 6, 7, 1, 2, 3, 5, 1, 2, 3, 4, 5, 2, 3, 7, 1, 2, 3, 4, 5, 7, 1, 2, 3, 4, 5, 7, 1, 3, 5, 3, 1, 3, 3, 5, 5, 1, 2, 3, 1, 2, 3, 6, 1, 2, 3, 4, 5, 6, 7, 3, 1, 2, 3, 4, 5, 6, 7, 2, 3, 2, 1, 4, 1, 1, 2, 3, 4, 5, 6, 7, 2, 3, 6, 1, 2, 3, 4, 5, 6, 7, 1, 2, 3, 4, 5, 7, 4, 1, 2, 3, 6, 7, 1, 2, 5, 7, 1, 2, 1, 2, 3, 6, 1, 7, 1, 2, 3, 4, 5, 7, 6, 2, 4, 1, 2, 3, 5, 4, 4, 4, 1, 2, 3, 4, 5, 1, 2, 3, 5, 7, 1, 3, 5, 2, 1, 2, 7, 6, 7, 1, 2, 5, 1, 2, 3, 4, 5, 7, 1, 2, 2, 3, 2, 3, 5, 1, 2, 3, 4, 5, 6, 7, 6, 7, 1, 2, 3, 1, 2, 3, 4, 5, 7, 1, 2, 3, 4, 5, 7, 1, 2, 3, 4, 7, 2, 3, 6, 1, 2, 3, 1, 2, 3, 4, 5, 7, 1, 1, 2, 3, 7, 7, 5, 2, 7, 5, 7, 6, 5, 4, 1, 2, 3, 7, 1, 2, 3, 4, 5, 7, 1, 2, 3, 7, 3, 5, 7, 1, 3, 1, 2, 3, 5, 7, 1, 2, 3, 5, 7, 1, 3, 7, 1, 2, 3, 4, 5, 1, 2, 3, 4, 5, 6, 7, 5, 1, 2, 3, 4, 1, 2, 3, 5, 1, 2, 3, 4, 5, 1, 2, 3, 4, 5, 7, 2, 1, 2, 1, 2, 3, 4, 5, 6, 7, 1, 2, 3, 5, 7, 1, 2, 3, 5, 7, 7, 1, 2, 3, 4, 7, 5, 3, 5, 2, 3, 4, 7, 1, 2, 3, 4, 7, 3, 7, 6, 1, 2, 1, 2, 3, 6, 7, 5, 2, 3, 1, 2, 3, 5, 3, 1, 3, 6, 2, 3, 4, 1, 3, 1, 2, 3, 7, 1, 2, 3, 5, 6, 7, 1, 2, 3, 4, 5, 6, 7, 1, 2, 3, 5, 7, 2, 3, 4, 6, 1, 2, 3, 5, 7, 3, 1, 2, 3, 5, 7, 1, 2, 3, 6, 5, 5, 6, 1, 2, 3, 5, 7, 1, 2, 3, 4, 7, 1, 2, 3, 4, 7, 4, 4, 2, 6, 1, 2, 3, 4, 5, 7, 1, 6, 1, 2, 3, 6, 7, 1, 2, 3, 7, 2, 2, 6, 7, 3, 1, 2, 3, 7, 1, 2, 3, 5, 7, 4, 1, 2, 3, 7, 7, 2, 3, 1, 3, 5, 1, 2, 3, 5, 1, 2, 3, 4, 6, 1, 3, 5, 1, 2, 3, 6, 1, 2, 3, 4, 5, 6, 7, 1, 2, 3, 4, 5, 6, 7, 1, 2, 3, 4, 7, 3, 7, 1, 2, 3, 6, 7, 1, 2, 3, 5, 1, 2, 3, 1, 2, 3, 1, 3, 1, 2, 3, 7, 1, 2, 3, 5, 7, 2, 3, 1, 2, 3, 5, 7, 1, 3, 5, 1, 2, 5, 7, 1, 2, 3, 4, 5, 7, 1, 2, 3, 5, 7, 1, 2, 3, 4, 5, 6, 7, 1, 2, 3, 4, 5, 6, 7, 1, 2, 3, 4, 5, 7, 1, 2, 3, 4, 5, 6, 7, 1, 3, 5, 7, 1, 2, 3, 4, 5, 7, 2, 2], \"Freq\": [0.7761656330123948, 0.1047092957069371, 0.8027712670865177, 0.05235464785346855, 0.017451549284489516, 0.03490309856897903, 0.8748999558705531, 0.06529104148287711, 0.03917462488972626, 0.01305820829657542, 0.8781683742061432, 0.35603936652421114, 0.12840764038578106, 0.052530398339637706, 0.44942674135023375, 0.011673421853252824, 0.005836710926626412, 0.870579898550695, 0.9365257136502877, 0.010378831935659817, 0.33731203790894404, 0.16606131097055707, 0.48261568500818147, 0.08106576761251773, 0.1389698873357447, 0.6601069648447873, 0.09264659155716312, 0.01158082394464539, 0.9054373644465628, 0.1949580083847506, 0.11372550489110453, 0.6823530293466272, 0.237509561986163, 0.13458875179215904, 0.6016908903649463, 0.007916985399538766, 0.015833970799077533, 0.8668735604159565, 0.16528249096903427, 0.4187156437882201, 0.02754708182817238, 0.37464031286314436, 0.016528249096903428, 0.8422114463965487, 0.0765646769451408, 0.7957322577858144, 0.10531750470694602, 0.07801296644958965, 0.0039006483224794824, 0.011701944967438448, 0.8226683130614303, 0.010993411587418138, 0.17223011486955084, 0.09894070428676324, 0.6999138710656214, 0.014657882116557518, 0.0036644705291393794, 0.734948530191499, 0.9247217425890524, 0.40257930803032616, 0.159159261314315, 0.16384041605885366, 0.05149270218992544, 0.16852157080339233, 0.05149270218992544, 0.08820548692160453, 0.14700914486934089, 0.29401828973868177, 0.08820548692160453, 0.3822237766602863, 0.7634902405181548, 0.9576242642391698, 0.10011929622260896, 0.8009543697808716, 0.21409374550325816, 0.2933252891147001, 0.3438986148241312, 0.11463287160804374, 0.01854355276012472, 0.013486220189181617, 0.9365366441375899, 0.08380113995653281, 0.9218125395218609, 0.02848408351234144, 0.18514654283021936, 0.22075164722064616, 0.5376370762954447, 0.00712102087808536, 0.02492357307329876, 0.08450914037938935, 0.2770021823546651, 0.32864665703095863, 0.2676122778680663, 0.03286466570309586, 0.009389904486598818, 0.8860968984849239, 0.08687224494950234, 0.017374448989900468, 0.9851349292594406, 0.1872545580217305, 0.09362727901086525, 0.046813639505432623, 0.7022045925814894, 0.0995399750187977, 0.8709747814144799, 0.024884993754699426, 0.8867946664563489, 0.9756758350662446, 0.9587838884447268, 0.9420038477937084, 0.9743755281861869, 0.8136190044993099, 0.34435614203040427, 0.18639460898893442, 0.12636922643317589, 0.10109538114654071, 0.214827684936399, 0.028433075947464574, 0.250053944728966, 0.613768773425644, 0.08524566297578388, 0.022732176793542367, 0.02841522099192796, 0.07451882174564335, 0.8197070392020769, 0.0793127583765043, 0.7402524115140401, 0.022660788107572657, 0.15484871873507983, 0.003776798017928776, 0.09607265629859901, 0.8646539066873911, 0.23756707026979532, 0.10558536456435348, 0.06599085285272092, 0.5543231639628557, 0.03959451171163255, 0.2660493651907115, 0.12809784249923145, 0.05912208115349144, 0.14780520288372861, 0.4040008878821915, 0.09720482676512773, 0.8748434408861495, 0.09509019725424508, 0.8558117752882057, 0.12676191615955407, 0.7922619759972128, 0.06338095807977703, 0.9856386248257774, 0.9775035583862675, 0.9949232146943474, 0.3434768824051146, 0.18652386991536024, 0.09326193495768012, 0.2593136728091594, 0.05914171485121179, 0.05686703351078057, 0.8825565320821329, 0.026744137335822208, 0.053488274671644416, 0.026744137335822208, 0.12705051241396972, 0.7623030744838184, 0.04235017080465658, 0.04235017080465658, 0.9847056785643921, 0.7981286790123072, 0.8822320272015803, 0.0490128904000878, 0.0490128904000878, 0.7175939103066702, 0.009966582087592641, 0.24916455218981604, 0.009966582087592641, 0.019933164175185283, 0.972551970762733, 0.7110056173796132, 0.17464917323107004, 0.5269587123351251, 0.04817908227064001, 0.19873871436639004, 0.027100733777235004, 0.0030111926419150005, 0.021078348493405005, 0.06538622563429893, 0.1716388422900347, 0.4863100531550983, 0.23702506792433362, 0.03677975191929315, 0.004086639102143683, 0.041092988351785036, 0.1232789650553551, 0.7807667786839156, 0.041092988351785036, 0.2207930861521081, 0.6623792584563243, 0.45164753818285625, 0.25969733445514237, 0.16184036784885683, 0.1166756140305712, 0.007527458969714271, 0.9579095010882023, 0.8222006225979377, 0.7546696991337231, 0.1706990986135802, 0.06288914159447692, 0.008984163084925275, 0.10727907077381621, 0.363098393388301, 0.28057603125459624, 0.2310626139743734, 0.8805215433855357, 0.08805215433855357, 0.9911781179558351, 0.9000797711077038, 0.5847854503989918, 0.2309656820903581, 0.16708155725685478, 0.01474249034619307, 0.2879898477863561, 0.5957050276128736, 0.07495626175261323, 0.007890132816064552, 0.023670398448193655, 0.007890132816064552, 0.08173987644797892, 0.8991386409277682, 0.19808953679067345, 0.033014922798445576, 0.1320596911937823, 0.6272835331704659, 0.12960465954910824, 0.18514951364158322, 0.5924784436530662, 0.03702990272831664, 0.05554485409247496, 0.9098994620800146, 0.05054997011555637, 0.03778279417779964, 0.13223977962229871, 0.15113117671119855, 0.09445698544449908, 0.01889139708889982, 0.05667419126669945, 0.5100677214002951, 0.8810134806360501, 0.06118149171083681, 0.024472596684334724, 0.024472596684334724, 0.04147870881870305, 0.23504601663931732, 0.06913118136450509, 0.6083543960076447, 0.027652472545802036, 0.013826236272901018, 0.956003629469274, 0.9755340205999653, 0.08939876768156868, 0.3873946599534643, 0.014899794613594778, 0.5036130579395035, 0.002979958922718956, 0.002979958922718956, 0.8643606516682577, 0.09098533175455344, 0.8505811438783063, 0.06896603869283564, 0.0459773591285571, 0.8865452023236046, 0.059103013488240305, 0.029551506744120153, 0.029551506744120153, 0.8845692738461284, 0.06100477750662955, 0.030502388753314773, 0.9140771627097452, 0.8846681105638501, 0.9423001273852357, 0.07470136783993644, 0.07470136783993644, 0.07470136783993644, 0.7470136783993644, 0.10126146980492735, 0.10126146980492735, 0.06750764653661823, 0.7088302886344915, 0.14854184452792954, 0.07427092226396477, 0.11140638339594716, 0.6498705698096917, 0.018567730565991192, 0.35121647378015136, 0.21072988426809083, 0.023414431585343426, 0.3980453369508382, 0.8895218749951785, 0.04414821577941609, 0.17659286311766437, 0.022074107889708046, 0.11037053944854024, 0.6180750209118253, 0.1308651020022857, 0.3178152477198367, 0.06854838676310204, 0.4736070358177959, 0.006231671523918367, 0.006231671523918367, 0.5978660185925389, 0.04053328939610433, 0.020266644698052165, 0.3445329598668868, 0.9046014523571686, 0.038503998417372474, 0.20535465822598653, 0.012834666139124158, 0.7444106360692012, 0.9446571181603526, 0.05113931783006825, 0.204557271320273, 0.738679035323208, 0.0056821464255631384, 0.5063346268381835, 0.2694257647395839, 0.11148652334051748, 0.004645271805854895, 0.060388533476113636, 0.004645271805854895, 0.03716217444683916, 0.06207873202587885, 0.8691022483623039, 0.06988795776441037, 0.9085434509373348, 0.6032418573051997, 0.14903622356951993, 0.14903622356951993, 0.007096963027119997, 0.049678741189839976, 0.04258177816271998, 0.09259237473807422, 0.18518474947614844, 0.5864183733411368, 0.04629618736903711, 0.09259237473807422, 0.5283163612766041, 0.12527088978723602, 0.26688146085106806, 0.005446560425532001, 0.05991216468085201, 0.005446560425532001, 0.010893120851064001, 0.4558847930691168, 0.17790626070989923, 0.27056577149630506, 0.059302086903299744, 0.003706380431456234, 0.033357423883106106, 0.1210424898834698, 0.7262549393008189, 0.171725375439078, 0.772764189475851, 0.11872396085749362, 0.05936198042874681, 0.23744792171498724, 0.5342578238587213, 0.029680990214373405, 0.31788987740704405, 0.07947246935176101, 0.22252291418493084, 0.3655733590181007, 0.017964550688333476, 0.3053973617016691, 0.2335391589483352, 0.43114921652000343, 0.6701287514696275, 0.8039721909608432, 0.1148531701372633, 0.033344799918061434, 0.13337919967224574, 0.8002751980334745, 0.7704861048340254, 0.28540883592045313, 0.07135220898011328, 0.5708176718409063, 0.9694512672658585, 0.7970058938692112, 0.9161609990536154, 0.024158975266567174, 0.23353676091014935, 0.06442393404417913, 0.6683983157083585, 0.9129219761393194, 0.06520871258137995, 0.9826031966856494, 0.99516695708291, 0.8503743366895772, 0.008389687711672523, 0.15101437881010543, 0.06432093912282268, 0.7690547069033147, 0.0027965625705575078, 0.0027965625705575078, 0.0027965625705575078, 0.9015487479645655, 0.06439633914032611, 0.06797042759059418, 0.06797042759059418, 0.8836155586777245, 0.4150546943391003, 0.07546448987983642, 0.4905191842189367, 0.05706016347884803, 0.2757907901477655, 0.038040108985898685, 0.6276617982673284, 0.004755013623237336, 0.9347905808893031, 0.9433757143069629, 0.24947314635013382, 0.0831577154500446, 0.6652617236003568, 0.13155806523886082, 0.21049290438217733, 0.6051671000987597, 0.05262322609554433, 0.07084036028140496, 0.34188173874938915, 0.07084036028140496, 0.4958825219698347, 0.018480093986453467, 0.0030800156644089113, 0.03470550384508378, 0.3574666896043629, 0.1874097207634524, 0.4129954957564969, 0.0034705503845083776, 0.1264784801586359, 0.8431898677242393, 0.14024329605230765, 0.16361717872769224, 0.7012164802615383, 0.063805959869516, 0.16305967522209644, 0.446641719086612, 0.2623133905746769, 0.03544775548306445, 0.028358204386451556, 0.7981635376193742, 0.8666096512348321, 0.046020425608453444, 0.2301021280422672, 0.6442859585183482, 0.046020425608453444, 0.044973926806399764, 0.7420697923055961, 0.20238267062879894, 0.01234553523033512, 0.6666589024380964, 0.308638380758378, 0.047847251363029884, 0.09569450272605977, 0.6937851447639334, 0.14354175408908965, 0.023923625681514942, 0.8550155922157876, 0.8877965047293902, 0.12075540255204291, 0.8452878178643004, 0.8947422622539075, 0.04067010282972307, 0.04067010282972307, 0.04067010282972307, 0.14947691352346057, 0.029895382704692115, 0.7174891849126108, 0.08968614811407635, 0.03697569748187316, 0.33278127733685847, 0.5916111597099706, 0.9374600222852572, 0.9814082156580537, 0.12262064889645409, 0.2107542402907805, 0.35253436557730555, 0.24524129779290818, 0.026823266946099333, 0.030655162224113523, 0.015327581112056761, 0.3810355227998205, 0.0254023681866547, 0.1524142091199282, 0.0254023681866547, 0.4318402591731299, 0.024512623124382828, 0.14707573874629698, 0.7721476284180591, 0.036768934686574245, 0.024512623124382828, 0.8344765681138347, 0.07947395886798425, 0.039736979433992126, 0.26539384058021914, 0.08293557518131847, 0.5805490262692293, 0.049761345108791086, 0.08296438562990491, 0.024889315688971472, 0.024889315688971472, 0.862829610551011, 0.13479334142833346, 0.6739667071416674, 0.0645016567324397, 0.22575579856353895, 0.14512872764798931, 0.5643894964088474, 0.016125414183109924, 0.08545045049485997, 0.15722882891054235, 0.09485000004929456, 0.6203702705926833, 0.026489639653406588, 0.002563513514845799, 0.013672072079177595, 0.3764178468883708, 0.2621481433686868, 0.1310740716843434, 0.0941044617220927, 0.09746533535502458, 0.0369696099622507, 0.7988599812868146, 0.9479436398091783, 0.8803605138431267, 0.7805678394515672, 0.9346384743213295, 0.057829988140148066, 0.19483198385311787, 0.09225260012833143, 0.616853206828246, 0.027538089590546697, 0.001376904479527335, 0.010326783596455011, 0.708710335256731, 0.7850879617104072, 0.8802295521294009, 0.020470454700683743, 0.061411364102051225, 0.040940909401367485, 0.8971081197423343, 0.8429468972927998, 0.9781067809223268, 0.10463147792048633, 0.3043824812232329, 0.06341301692150686, 0.4755976269113015, 0.03170650846075343, 0.022194555922527403, 0.1313450755205126, 0.6731435120426271, 0.11492694108044854, 0.08209067220032039, 0.911108403129917, 0.05359461194881865, 0.8886967802173156, 0.9368746093389158, 0.08845717229715441, 0.1010939111967479, 0.1010939111967479, 0.012636738899593488, 0.6697471616784548, 0.025273477799186976, 0.2865216591348412, 0.312569082692554, 0.22326363049468143, 0.14140029931329823, 0.018605302541223452, 0.018605302541223452, 0.9268362085440225, 0.031959869260138704, 0.7722063927358199, 0.5985920048579524, 0.36302165907082456, 0.587749352781335, 0.03457349134007853, 0.03038765064834085, 0.2329719883039465, 0.5064608441390142, 0.16206747012448453, 0.0607753012966817, 0.010129216882780283, 0.7380983126665973, 0.19105185878357692, 0.3167438711411933, 0.26646706619814675, 0.15083041482913967, 0.025138402471523276, 0.0452491244487419, 0.9564437223579301, 0.47605073608536497, 0.07323857478236384, 0.4211218049985921, 0.03661928739118192, 0.6176659541012943, 0.8001610359674818, 0.8994178103880501, 0.8400280014550402, 0.05398392507124115, 0.9177267262110995, 0.13614171327475386, 0.8168502796485232, 0.08556095712041166, 0.28876823028138937, 0.4064145463219554, 0.19964223328096056, 0.014260159520068611, 0.010695119640051457, 0.11553148663523306, 0.3356658057645285, 0.13738879491757444, 0.3528394051292253, 0.0390309076470382, 0.006244945223526112, 0.01405112675293375, 0.09962705755232065, 0.09962705755232065, 0.7970164604185652, 0.2377028367647378, 0.0679150962184965, 0.2546816108193619, 0.4414481254202273, 0.9713101672093288, 0.9667925156328694, 0.015106133056763584, 0.007553066528381792, 0.21301463519740824, 0.18745287897371926, 0.3834263433553349, 0.16189112275003026, 0.02556175622368899, 0.02556175622368899, 0.19933672857470722, 0.6976785500114753, 0.019933672857470722, 0.06976785500114753, 0.05190029015934818, 0.5828801817896027, 0.03593097011031797, 0.31539407096834665, 0.007984660024515105, 0.007984660024515105, 0.6174512743248473, 0.019908591827742583, 0.1300694666079182, 0.09954295913871292, 0.7034369112469046, 0.026544789103656777, 0.019908591827742583, 0.14370084221328663, 0.08211476697902093, 0.17449387983041947, 0.3079303761713285, 0.266872992681818, 0.03079303761713285, 0.19159498746359238, 0.7025149540331721, 0.06386499582119746, 0.032563251763531455, 0.00651265035270629, 0.9573596018478246, 0.656183809542891, 0.4507210757932373, 0.023722161883854596, 0.4744432376770919, 0.04744432376770919, 0.9741199564575279, 0.04553375899630982, 0.9106751799261963, 0.19923970328291557, 0.06641323442763852, 0.7305455787040237, 0.9492809469675206, 0.07754118758869158, 0.12923531264781932, 0.7237177508277881, 0.06461765632390966, 0.10084058125658157, 0.8571449406809434, 0.13464811805491345, 0.7630060023111762, 0.06732405902745672, 0.022441353009152242, 0.915374944136062, 0.8450232406861405, 0.7238994354200639, 0.09916430622192655, 0.1090807368441192, 0.03966572248877062, 0.01983286124438531, 0.31118935477749005, 0.2038826807162866, 0.43995736365093424, 0.03219200221836104, 0.16332755074957211, 0.023332507249938874, 0.04666501449987775, 0.13999504349963326, 0.5833126812484719, 0.12612875370649454, 0.1891931305597418, 0.6937081453857199, 0.3531785127318884, 0.1531858609439516, 0.1446755353359543, 0.24254427982792334, 0.012765488411995965, 0.09361358168797042, 0.5367628306278917, 0.1561491870917503, 0.10247290402896113, 0.08295425564249234, 0.10247290402896113, 0.019518648386468787, 0.1661792720834194, 0.12463445406256456, 0.6647170883336776, 0.930226472075061, 0.10128978401078075, 0.9116080560970268, 0.8631221829488126, 0.751294380782864, 0.9026017507612789, 0.05245347480977477, 0.8392555969563963, 0.05245347480977477, 0.8539774270802407, 0.0869791823878023, 0.039535991994455594, 0.007907198398891119, 0.15203387454616843, 0.49953987350883916, 0.0542978123379173, 0.2633443898388989, 0.024434015552062784, 0.0013574453084479324, 0.00542978123379173, 0.9523087127687467, 0.05190422298850044, 0.14533182436780123, 0.12716534632182608, 0.6332315204597053, 0.02595211149425022, 0.01297605574712511, 0.005190422298850044, 0.8508400786259415, 0.08508400786259414, 0.888400166140461, 0.19566179839544257, 0.7826471935817703, 0.9379175254886775, 0.12270111266967791, 0.2839654321783974, 0.3330458772462686, 0.20333327242403768, 0.03505746076276512, 0.02103447645765907, 0.0035057460762765117, 0.9516301250378357, 0.04531572023989694, 0.9655007269058783, 0.6143780046989188, 0.0912442581236018, 0.09732720866517526, 0.10341015920674872, 0.024331802166293815, 0.060829505415734536, 0.012165901083146908, 0.17578552035530634, 0.3697557497128858, 0.30914005303864217, 0.042430987671970496, 0.06667726634166792, 0.030307848337121784, 0.7602864632603252, 0.2269738157799818, 0.6336352357191158, 0.07565793859332726, 0.04728621162082954, 0.009457242324165907, 0.3358448556061079, 0.047977836515158266, 0.047977836515158266, 0.5757340381818992, 0.04074715238720466, 0.9371845049057071, 0.07319218339916196, 0.8783062007899435, 0.02439739446638732, 0.9754266013398254, 0.8722756711314062, 0.9590217051500326, 0.03710214503183942, 0.29396314909842003, 0.05137220081331612, 0.6107583874472028, 0.00285401115629534, 0.00285401115629534, 0.985490679353983, 0.9439265323015913, 0.05244036290564396, 0.022453808698698053, 0.11226904349349028, 0.13472285219218832, 0.7185218783583377, 0.7207250266814286, 0.6534512441121982, 0.6665659190611951, 0.07079960197078757, 0.14159920394157513, 0.5191970811191089, 0.22419873957416064, 0.03539980098539378, 0.3557568778864376, 0.02223480486790235, 0.11117402433951176, 0.11117402433951176, 0.40022648762224233, 0.1166871878650469, 0.07779145857669795, 0.7779145857669794, 0.9168598886127207, 0.06080657237377057, 0.9120985856065585, 0.9060847147228824, 0.9707362231204126, 0.8917407599091266, 0.05184134568441989, 0.05184134568441989, 0.8294615309507183, 0.024777413983382506, 0.25678410855505507, 0.13064454645783502, 0.5721330137981051, 0.013514953081845003, 0.004504984360615001, 0.07448274506544757, 0.8937929407853709, 0.07504685031632627, 0.825515353479589, 0.03426006902082266, 0.9250218635622117, 0.03426006902082266, 0.18385709124307353, 0.15215759275288845, 0.038039398188222114, 0.562137773225949, 0.025359598792148073, 0.004226599798691346, 0.03592609828887644, 0.9859611284366802, 0.8186350704385741, 0.911027795304017, 0.020705177166000385, 0.062115531498001156, 0.24084809810410315, 0.3277113466006649, 0.051328283202513786, 0.33560800555489784, 0.027638306339815115, 0.019741647385582227, 0.046839260448626595, 0.19456308186352586, 0.2269902621741135, 0.49721676476234383, 0.021618120207058427, 0.01801510017254869, 0.13888481449937598, 0.5902604616223479, 0.15045854904099065, 0.08101614179130265, 0.034721203624843995, 0.05241327549591609, 0.9434389589264895, 0.9785256241360257, 0.03891403940884282, 0.758823768472435, 0.1945701970442141, 0.13723569388343543, 0.28930767899751253, 0.20028993161366251, 0.2967258246128333, 0.06305423773022709, 0.01112721842298125, 0.9484714035472598, 0.8241801846198703, 0.08585210256456982, 0.06868168205165585, 0.017170420512913964, 0.8761169572068778, 0.7567806469640516, 0.1584088041283961, 0.7920440206419807, 0.9235611634725645, 0.8851410966616629, 0.9735091173057208, 0.8667440386847205, 0.6489490865865051, 0.9256383322785386, 0.013037159609556882, 0.013037159609556882, 0.039111478828670644, 0.27005218594299574, 0.564654570608082, 0.045008697657165954, 0.094109095101347, 0.008183399574030173, 0.016366799148060347, 0.8686373088749905, 0.1071317432685466, 0.17855290544757765, 0.6963563312455529, 0.17982329313148251, 0.7192931725259301, 0.08991164656574126, 0.9269849834237639, 0.04634924917118819, 0.7730712322475017, 0.0343587214332223, 0.04581162857762973, 0.057264535722037165, 0.09162325715525946, 0.7969825009321302, 0.05313216672880868, 0.06375860007457042, 0.042505733383046945, 0.03187930003728521, 0.33957675818091176, 0.056596126363485294, 0.5659612636348529, 0.6732427141932894, 0.1315531740377692, 0.07738422002221718, 0.09286106402666061, 0.023215266006665153, 0.20123901120014118, 0.18751816952740427, 0.35216826960024705, 0.19209178341831656, 0.022868069454561497, 0.025154876400017647, 0.018294455563649198, 0.9416129912167018, 0.04251344129877878, 0.31885080974084085, 0.028342294199185852, 0.6022737517326994, 0.051561017853623624, 0.8636470490481958, 0.038670763390217716, 0.051561017853623624, 0.06405263927325346, 0.871115894116247, 0.019215791781976035, 0.025621055709301382, 0.019215791781976035, 0.20274664639772855, 0.3041199695965928, 0.22919186114525836, 0.03746405422566723, 0.18732027112833616, 0.0418715900169222, 0.8784218844085118, 0.06646387666259401, 0.9304942732763162, 0.47692054619980934, 0.22111770778354797, 0.06937026126542681, 0.1951038598090129, 0.0043356413290891755, 0.0043356413290891755, 0.03034948930362423, 0.8245267651884435, 0.04922547851871304, 0.0615318481483913, 0.02461273925935652, 0.04922547851871304, 0.7616697642579124, 0.09019773524106858, 0.050109852911704764, 0.04008788232936381, 0.050109852911704764, 0.7078963669473451, 0.5702768965376688, 0.08386424949083364, 0.05590949966055576, 0.2795474983027788, 0.005590949966055576, 0.7361378722975302, 0.19655860236532358, 0.7207148753395198, 0.07536887034879182, 0.07536887034879182, 0.8290575738367101, 0.07536887034879182, 0.16134464077192157, 0.31260524149559804, 0.010084040048245098, 0.5042020024122549, 0.010084040048245098, 0.14375310775531194, 0.7187655387765597, 0.9559320634031644, 0.045127478187814055, 0.9476770419440952, 0.5235007686435954, 0.23419771228792427, 0.09643435211855705, 0.1412074441736014, 0.006888168008468361, 0.9275424191813976, 0.9614798383735265, 0.03845919353494106, 0.2441669741765101, 0.08138899139217003, 0.5832877716438852, 0.09495382329086503, 0.9454000319998306, 0.8412429087180081, 0.9427200333952437, 0.9715734849865381, 0.1450761827339685, 0.7979190050368268, 0.07253809136698425, 0.061481230465698616, 0.9222184569854793, 0.8964236212816721, 0.08224069920015341, 0.01644813984003068, 0.00822406992001534, 0.3983823028780276, 0.013279410095934254, 0.013279410095934254, 0.5444558139333044, 0.0033198525239835634, 0.026558820191868508, 0.036882282046962145, 0.034367580998305634, 0.006705869463084026, 0.8441013186657018, 0.025147010486565098, 0.040235216778504154, 0.012573505243282549, 0.9090493120881421, 0.023922350318109003, 0.011961175159054501, 0.047844700636218006, 0.011961175159054501, 0.1144988531550208, 0.8342059301294372, 0.032713958044291655, 0.032713958044291655, 0.8057095941444784, 0.12891353506311656, 0.03222838376577914, 0.01611419188288957, 0.01611419188288957, 0.9169628935230525, 0.2134952777357971, 0.13138170937587512, 0.24634070507976588, 0.36129970078365664, 0.04926814101595318, 0.036985544206631686, 0.8876530609591605, 0.036985544206631686, 0.036985544206631686, 0.8867690701506428, 0.8206796869058831, 0.9895913738564148, 0.16971462434285364, 0.709715701797388, 0.09257161327792017, 0.015428602212986694, 0.015428602212986694, 0.04664804143666929, 0.17104281860112075, 0.023324020718334646, 0.7308193158411523, 0.031098694291112863, 0.08654397802204668, 0.12116156923086535, 0.05192638681322801, 0.7096606197807828, 0.025963193406614005, 0.811387270822228, 0.7009464282879623, 0.9538736857203451, 0.9507712290423869, 0.33941448473595753, 0.2099471039603861, 0.1854532751650077, 0.1994497487623668, 0.024493828795378376, 0.03849030239273745, 0.08203396773854409, 0.9023736451239849, 0.7379646451904733, 0.14263182217967132, 0.099222137168467, 0.018604150719087564, 0.8582919948058537, 0.8906713286640394, 0.034256589564001516, 0.034256589564001516, 0.017128294782000758, 0.9316940613495155, 0.07419540598914576, 0.07419540598914576, 0.8161494658806033, 0.9321383586535863, 0.26150446438374536, 0.043584077397290893, 0.21792038698645444, 0.4794248513701998, 0.7983149963602422, 0.03684530752431887, 0.12281769174772955, 0.012281769174772956, 0.024563538349545912, 0.9190395371747037, 0.7704580970410588, 0.02485348700132448, 0.18640115250993358, 0.01242674350066224, 0.832937766166873, 0.07441690938619794, 0.8185860032481772, 0.8695836127393308, 0.10540407427143404, 0.02635101856785851, 0.8195490947985739, 0.058539221057040985, 0.11707844211408197, 0.011707844211408197, 0.8144157366214704, 0.09666655627554545, 0.033833294696440905, 0.033833294696440905, 0.01933331125510909, 0.9168204724416752, 0.8527758923103734, 0.8412333910229293, 0.11068998862626278, 0.7748299203838395, 0.08301749146969709, 0.027672497156565695, 0.3331976426066308, 0.18392509871886023, 0.27188927636701077, 0.10662324563412187, 0.0799674342255914, 0.002665581140853047, 0.02399023026767742, 0.27470600774032516, 0.4031975274898321, 0.18166042447344086, 0.07975335708590085, 0.04873816266360608, 0.004430742060327826, 0.008861484120655651, 0.01768601470269166, 0.22402285290076104, 0.10611608821614997, 0.6425918675311304, 0.005895338234230554, 0.8611817227602746, 0.7576626943095681, 0.8262225002665026, 0.08621452176693939, 0.07184543480578283, 0.007184543480578283, 0.0035922717402891414, 0.27138707576601273, 0.07306575116777266, 0.647153796057415, 0.010437964452538952, 0.06997728121620292, 0.06997728121620292, 0.8630531349998359, 0.06811653644282306, 0.17029134110705765, 0.7492819008710536, 0.9115856146102237, 0.05697410091313898, 0.1630086081921252, 0.06986083208233938, 0.44245193652148274, 0.302730272356804, 0.7751655060534367, 0.012111961032084948, 0.060559805160424744, 0.012111961032084948, 0.13323157135293442, 0.0820307143496924, 0.820307143496924, 0.30715647842998556, 0.054204084428820985, 0.14454422514352264, 0.37942859100174686, 0.10840816885764197, 0.08756725443022455, 0.8318889170871332, 0.043783627215112274, 0.02737168604724861, 0.9306373256064527, 0.02737168604724861, 0.02737168604724861, 0.041700641340171284, 0.16680256536068513, 0.09382644301538538, 0.11467676368547103, 0.5629586580923123, 0.010425160335042821, 0.7677659698791585, 0.07400153926546105, 0.12950269371455683, 0.018500384816365262, 0.009250192408182631, 0.6438705561732045, 0.09231119084920496, 0.08077229199305433, 0.07384895267936396, 0.07615673245059408, 0.004615559542460248, 0.03000113702599161, 0.46040318671242325, 0.23999740583945467, 0.05877487489945829, 0.19101834342323945, 0.039183249932972196, 0.0048979062416215245, 0.0048979062416215245, 0.4825535136092004, 0.17234054057471443, 0.034468108114942886, 0.2481703784275888, 0.04825535136092004, 0.010340432434482866, 0.10846949799567533, 0.2577911445871245, 0.05916518072491382, 0.5592518273283521, 0.007043473895823074, 0.005634779116658459, 0.0028173895583292296, 0.3708021378580565, 0.28652892470849817, 0.050563927889734975, 0.28652892470849817, 0.10308649646303657, 0.270602053215471, 0.14174393263667528, 0.32858820747592904, 0.025771624115759142, 0.1288581205787957, 0.8463902262461365, 0.8939405509971763], \"Term\": [\"aaaaa\", \"accessories\", \"accessories\", \"accessories\", \"accessories\", \"accessories\", \"activate\", \"activate\", \"activate\", \"activate\", \"ads\", \"advertised\", \"advertised\", \"advertised\", \"advertised\", \"advertised\", \"advertised\", \"africa\", \"alert\", \"amazing\", \"amazing\", \"amazing\", \"amazing\", \"android\", \"android\", \"android\", \"android\", \"android\", \"apn\", \"app\", \"app\", \"app\", \"apps\", \"apps\", \"apps\", \"apps\", \"apps\", \"arabic\", \"arrived\", \"arrived\", \"arrived\", \"arrived\", \"arrived\", \"articulo\", \"articulo\", \"att\", \"att\", \"att\", \"att\", \"att\", \"authentic\", \"awesome\", \"awesome\", \"awesome\", \"awesome\", \"awesome\", \"awesome\", \"awesomeness\", \"awsome\", \"bad\", \"bad\", \"bad\", \"bad\", \"bad\", \"bad\", \"basic\", \"basic\", \"basic\", \"basic\", \"basic\", \"bat\", \"bateria\", \"batery\", \"batery\", \"battery\", \"battery\", \"battery\", \"battery\", \"battery\", \"battery\", \"beast\", \"beautifully\", \"beautifully\", \"best\", \"best\", \"best\", \"best\", \"best\", \"best\", \"better\", \"better\", \"better\", \"better\", \"better\", \"better\", \"beware\", \"beware\", \"beware\", \"bien\", \"birthday\", \"birthday\", \"birthday\", \"birthday\", \"bixby\", \"bixby\", \"bixby\", \"blacked\", \"blacklisted\", \"blemish\", \"blemishes\", \"blocked\", \"blur\", \"bought\", \"bought\", \"bought\", \"bought\", \"bought\", \"bought\", \"box\", \"box\", \"box\", \"box\", \"box\", \"boyfriend\", \"boyfriend\", \"brand\", \"brand\", \"brand\", \"brand\", \"brand\", \"brightness\", \"brightness\", \"broke\", \"broke\", \"broke\", \"broke\", \"broke\", \"broken\", \"broken\", \"broken\", \"broken\", \"broken\", \"brother\", \"brother\", \"browser\", \"browser\", \"budget\", \"budget\", \"budget\", \"buen\", \"buena\", \"bueno\", \"buy\", \"buy\", \"buy\", \"buy\", \"buy\", \"buy\", \"buyer\", \"buyer\", \"buyer\", \"buyer\", \"cable\", \"cable\", \"cable\", \"cable\", \"calidad\", \"calienta\", \"called\", \"called\", \"called\", \"calls\", \"calls\", \"calls\", \"calls\", \"calls\", \"camara\", \"camaras\", \"came\", \"came\", \"came\", \"came\", \"came\", \"came\", \"came\", \"camera\", \"camera\", \"camera\", \"camera\", \"camera\", \"camera\", \"cameras\", \"cameras\", \"cameras\", \"cameras\", \"camper\", \"camper\", \"card\", \"card\", \"card\", \"card\", \"card\", \"cargador\", \"carpet\", \"carrier\", \"carrier\", \"carrier\", \"carrier\", \"case\", \"case\", \"case\", \"case\", \"cdma\", \"cdma\", \"celular\", \"cent\", \"charge\", \"charge\", \"charge\", \"charge\", \"charger\", \"charger\", \"charger\", \"charger\", \"charger\", \"charger\", \"chinese\", \"chinese\", \"christmas\", \"christmas\", \"christmas\", \"christmas\", \"clear\", \"clear\", \"clear\", \"clear\", \"clear\", \"code\", \"code\", \"color\", \"color\", \"color\", \"color\", \"color\", \"color\", \"color\", \"compatible\", \"compatible\", \"compatible\", \"compatible\", \"complaints\", \"complaints\", \"complaints\", \"complaints\", \"complaints\", \"complaints\", \"compra\", \"compre\", \"condition\", \"condition\", \"condition\", \"condition\", \"condition\", \"condition\", \"conditions\", \"conditions\", \"connect\", \"connect\", \"connect\", \"contact\", \"contact\", \"contact\", \"contact\", \"contacted\", \"contacted\", \"contacted\", \"contacting\", \"convoy\", \"cosmetic\", \"couldn\", \"couldn\", \"couldn\", \"couldn\", \"crack\", \"crack\", \"crack\", \"crack\", \"cracked\", \"cracked\", \"cracked\", \"cracked\", \"cracked\", \"crap\", \"crap\", \"crap\", \"crap\", \"da\", \"daughter\", \"daughter\", \"daughter\", \"daughter\", \"daughter\", \"deal\", \"deal\", \"deal\", \"deal\", \"deal\", \"deal\", \"defective\", \"defective\", \"defective\", \"defective\", \"defectuoso\", \"delivery\", \"delivery\", \"delivery\", \"delivery\", \"dents\", \"described\", \"described\", \"described\", \"described\", \"didnt\", \"didnt\", \"didnt\", \"didnt\", \"didnt\", \"didnt\", \"didnt\", \"dings\", \"dings\", \"disable\", \"disable\", \"disappointed\", \"disappointed\", \"disappointed\", \"disappointed\", \"disappointed\", \"disappointed\", \"display\", \"display\", \"display\", \"display\", \"display\", \"doesnt\", \"doesnt\", \"doesnt\", \"doesnt\", \"doesnt\", \"doesnt\", \"doesnt\", \"dont\", \"dont\", \"dont\", \"dont\", \"dont\", \"dont\", \"dot\", \"dot\", \"download\", \"download\", \"drop\", \"drop\", \"drop\", \"drop\", \"drop\", \"dropped\", \"dropped\", \"dropped\", \"dropped\", \"durable\", \"durable\", \"durable\", \"durable\", \"efficiency\", \"english\", \"english\", \"enjoying\", \"enjoying\", \"enjoying\", \"enjoys\", \"equipment\", \"equipment\", \"equipment\", \"equipo\", \"everithing\", \"evidence\", \"exactly\", \"exactly\", \"exactly\", \"exactly\", \"exceeded\", \"exceeded\", \"excelent\", \"excelente\", \"excelentes\", \"excellent\", \"excellent\", \"excellent\", \"excellent\", \"excellent\", \"excellent\", \"excellent\", \"exchange\", \"exchange\", \"expectation\", \"expectation\", \"expectation\", \"expectations\", \"expectations\", \"expectations\", \"expected\", \"expected\", \"expected\", \"expected\", \"expected\", \"expired\", \"exynos\", \"fabulous\", \"fabulous\", \"fabulous\", \"fake\", \"fake\", \"fake\", \"fake\", \"far\", \"far\", \"far\", \"far\", \"far\", \"far\", \"fast\", \"fast\", \"fast\", \"fast\", \"fast\", \"favorite\", \"favorite\", \"feature\", \"feature\", \"feature\", \"features\", \"features\", \"features\", \"features\", \"features\", \"features\", \"fecha\", \"fee\", \"fell\", \"fell\", \"fell\", \"fell\", \"finger\", \"finger\", \"finger\", \"fingerprint\", \"fingerprint\", \"fingerprint\", \"flip\", \"flip\", \"flip\", \"flip\", \"flip\", \"foot\", \"foreign\", \"fragile\", \"fragile\", \"freezing\", \"freezing\", \"freezing\", \"freezing\", \"friend\", \"friend\", \"friend\", \"friend\", \"friendly\", \"friendly\", \"friendly\", \"fun\", \"funciona\", \"galaxy\", \"galaxy\", \"galaxy\", \"galaxy\", \"galaxy\", \"galaxy\", \"galaxy\", \"garbage\", \"garbage\", \"garbage\", \"garbage\", \"garbage\", \"gb\", \"gb\", \"gb\", \"gb\", \"gb\", \"generic\", \"generic\", \"generic\", \"gets\", \"gets\", \"gets\", \"gets\", \"gift\", \"gift\", \"gift\", \"gift\", \"girl\", \"girl\", \"glass\", \"glass\", \"glass\", \"glass\", \"glass\", \"good\", \"good\", \"good\", \"good\", \"good\", \"good\", \"good\", \"got\", \"got\", \"got\", \"got\", \"got\", \"got\", \"gp\", \"gracias\", \"granddaughter\", \"grandmother\", \"grandson\", \"great\", \"great\", \"great\", \"great\", \"great\", \"great\", \"great\", \"greate\", \"greay\", \"gsm\", \"gsm\", \"gsm\", \"gsm\", \"gt\", \"gud\", \"gusto\", \"happy\", \"happy\", \"happy\", \"happy\", \"happy\", \"happy\", \"headphones\", \"headphones\", \"headphones\", \"headphones\", \"hesitant\", \"hesitant\", \"hesitate\", \"hubby\", \"husband\", \"husband\", \"husband\", \"husband\", \"husband\", \"husband\", \"im\", \"im\", \"im\", \"im\", \"im\", \"im\", \"imei\", \"imei\", \"impeccable\", \"impress\", \"international\", \"international\", \"international\", \"iphone\", \"iphone\", \"iphone\", \"iphone\", \"iphone\", \"iphone\", \"itits\", \"ive\", \"ive\", \"ive\", \"ive\", \"ive\", \"ive\", \"jamaica\", \"junk\", \"junk\", \"junk\", \"junk\", \"jus\", \"korea\", \"korean\", \"laggy\", \"language\", \"language\", \"law\", \"law\", \"life\", \"life\", \"life\", \"life\", \"life\", \"life\", \"like\", \"like\", \"like\", \"like\", \"like\", \"like\", \"like\", \"likes\", \"likes\", \"likes\", \"line\", \"line\", \"line\", \"line\", \"llego\", \"locked\", \"locked\", \"locked\", \"long\", \"long\", \"long\", \"long\", \"long\", \"long\", \"looked\", \"looked\", \"looked\", \"looked\", \"looks\", \"looks\", \"looks\", \"looks\", \"looks\", \"looks\", \"looses\", \"love\", \"love\", \"love\", \"love\", \"love\", \"love\", \"loved\", \"loved\", \"loved\", \"loved\", \"loved\", \"loved\", \"lovely\", \"lovely\", \"lovely\", \"loves\", \"loves\", \"loves\", \"lovin\", \"loving\", \"loving\", \"loving\", \"loving\", \"malo\", \"marks\", \"marks\", \"meet\", \"meet\", \"meet\", \"mejor\", \"memory\", \"memory\", \"memory\", \"memory\", \"met\", \"met\", \"minor\", \"minor\", \"minor\", \"minor\", \"misleading\", \"mms\", \"mobile\", \"mobile\", \"mobile\", \"mobile\", \"mobile\", \"model\", \"model\", \"model\", \"model\", \"mom\", \"mom\", \"mom\", \"mom\", \"mom\", \"moment\", \"moment\", \"moment\", \"money\", \"money\", \"money\", \"money\", \"money\", \"money\", \"months\", \"months\", \"months\", \"months\", \"months\", \"months\", \"mother\", \"mother\", \"mother\", \"movies\", \"mp\", \"mp\", \"navigate\", \"necesito\", \"nephew\", \"nervous\", \"nervous\", \"nervous\", \"network\", \"network\", \"network\", \"network\", \"new\", \"new\", \"new\", \"new\", \"new\", \"new\", \"new\", \"nfc\", \"nice\", \"nice\", \"nice\", \"nice\", \"nice\", \"nice\", \"nice\", \"nicely\", \"nicely\", \"nicks\", \"niece\", \"niece\", \"nope\", \"note\", \"note\", \"note\", \"note\", \"note\", \"note\", \"note\", \"noticeable\", \"noticeable\", \"nuevo\", \"ok\", \"ok\", \"ok\", \"ok\", \"ok\", \"ok\", \"ok\", \"old\", \"old\", \"old\", \"old\", \"old\", \"old\", \"operable\", \"original\", \"original\", \"original\", \"original\", \"original\", \"overheats\", \"overheats\", \"overheats\", \"overheats\", \"packaged\", \"packaged\", \"packaging\", \"packaging\", \"packaging\", \"pantalla\", \"paperweight\", \"penny\", \"perfect\", \"perfect\", \"perfect\", \"perfect\", \"perfect\", \"perfect\", \"perfecto\", \"performs\", \"performs\", \"personal\", \"personal\", \"personal\", \"personal\", \"phoneexcellent\", \"phonegreat\", \"phoneworking\", \"pictures\", \"pictures\", \"pictures\", \"pictures\", \"pictures\", \"piece\", \"piece\", \"piece\", \"piece\", \"piece\", \"pink\", \"pink\", \"pink\", \"pleasantly\", \"practically\", \"practically\", \"practico\", \"precio\", \"prefect\", \"present\", \"present\", \"present\", \"price\", \"price\", \"price\", \"price\", \"price\", \"price\", \"pristine\", \"pristine\", \"pro\", \"pro\", \"processor\", \"processor\", \"processor\", \"product\", \"product\", \"product\", \"product\", \"product\", \"product\", \"product\", \"producto\", \"productos\", \"provider\", \"provider\", \"provider\", \"purchase\", \"purchase\", \"purchase\", \"purchase\", \"purchase\", \"purchase\", \"quality\", \"quality\", \"quality\", \"quality\", \"quality\", \"quality\", \"quickly\", \"quickly\", \"quickly\", \"quickly\", \"quickly\", \"ram\", \"ram\", \"rapido\", \"reader\", \"reader\", \"reader\", \"really\", \"really\", \"really\", \"really\", \"really\", \"really\", \"reboot\", \"receive\", \"receive\", \"receive\", \"receive\", \"recharged\", \"recipient\", \"recomend\", \"recomend\", \"recomendable\", \"recomended\", \"recomiendo\", \"referbished\", \"refreshed\", \"refund\", \"refund\", \"refund\", \"refund\", \"refurbished\", \"refurbished\", \"refurbished\", \"refurbished\", \"refurbished\", \"refurbished\", \"refused\", \"reliable\", \"reliable\", \"reliable\", \"reported\", \"reported\", \"reported\", \"restarting\", \"restarting\", \"return\", \"return\", \"return\", \"return\", \"return\", \"returned\", \"returned\", \"returned\", \"returned\", \"returned\", \"rip\", \"rip\", \"rip\", \"said\", \"said\", \"said\", \"said\", \"said\", \"samsung\", \"samsung\", \"samsung\", \"samsung\", \"samsung\", \"samsung\", \"samsung\", \"satisfecho\", \"satisfied\", \"satisfied\", \"satisfied\", \"satisfied\", \"scratch\", \"scratch\", \"scratch\", \"scratch\", \"scratches\", \"scratches\", \"scratches\", \"scratches\", \"scratches\", \"screen\", \"screen\", \"screen\", \"screen\", \"screen\", \"screen\", \"scuff\", \"scuffs\", \"scuffs\", \"seller\", \"seller\", \"seller\", \"seller\", \"seller\", \"seller\", \"seller\", \"send\", \"send\", \"send\", \"send\", \"send\", \"sent\", \"sent\", \"sent\", \"sent\", \"sent\", \"server\", \"service\", \"service\", \"service\", \"service\", \"service\", \"shatter\", \"shattered\", \"shattered\", \"shipment\", \"shipment\", \"shipment\", \"shipment\", \"shipping\", \"shipping\", \"shipping\", \"shipping\", \"shipping\", \"shock\", \"shock\", \"si\", \"signs\", \"signs\", \"sim\", \"sim\", \"sim\", \"sim\", \"sim\", \"sister\", \"skeptical\", \"skeptical\", \"slow\", \"slow\", \"slow\", \"slow\", \"smgu\", \"smh\", \"snapdragon\", \"solo\", \"space\", \"space\", \"space\", \"spanish\", \"spanish\", \"sprint\", \"sprint\", \"sprint\", \"sprint\", \"star\", \"star\", \"star\", \"star\", \"star\", \"star\", \"stars\", \"stars\", \"stars\", \"stars\", \"stars\", \"stars\", \"stars\", \"stopped\", \"stopped\", \"stopped\", \"stopped\", \"stopped\", \"storage\", \"storage\", \"storage\", \"storage\", \"straight\", \"straight\", \"straight\", \"straight\", \"straight\", \"strength\", \"sucks\", \"sucks\", \"sucks\", \"sucks\", \"sucks\", \"surprised\", \"surprised\", \"surprised\", \"surprised\", \"tarjeta\", \"teenage\", \"telefono\", \"tell\", \"tell\", \"tell\", \"tell\", \"tell\", \"thank\", \"thank\", \"thank\", \"thank\", \"thank\", \"thanks\", \"thanks\", \"thanks\", \"thanks\", \"thanks\", \"thankyou\", \"thr\", \"thumbs\", \"tiempo\", \"time\", \"time\", \"time\", \"time\", \"time\", \"time\", \"timely\", \"timely\", \"tmobile\", \"tmobile\", \"tmobile\", \"tmobile\", \"tmoblie\", \"told\", \"told\", \"told\", \"told\", \"ton\", \"transaction\", \"transaction\", \"transaction\", \"transition\", \"trash\", \"trash\", \"trash\", \"trash\", \"tried\", \"tried\", \"tried\", \"tried\", \"tried\", \"trustworthy\", \"turn\", \"turn\", \"turn\", \"turn\", \"ty\", \"ui\", \"ui\", \"unable\", \"unable\", \"unable\", \"unlock\", \"unlock\", \"unlock\", \"unlock\", \"unlocked\", \"unlocked\", \"unlocked\", \"unlocked\", \"unlocked\", \"unsatisfied\", \"unsupported\", \"upper\", \"usb\", \"usb\", \"usb\", \"usb\", \"use\", \"use\", \"use\", \"use\", \"use\", \"use\", \"use\", \"used\", \"used\", \"used\", \"used\", \"used\", \"used\", \"used\", \"value\", \"value\", \"value\", \"value\", \"value\", \"variant\", \"ventures\", \"verizon\", \"verizon\", \"verizon\", \"verizon\", \"verizon\", \"version\", \"version\", \"version\", \"version\", \"video\", \"video\", \"video\", \"videos\", \"videos\", \"videos\", \"voicemail\", \"voicemail\", \"volume\", \"volume\", \"volume\", \"volume\", \"waste\", \"waste\", \"waste\", \"waste\", \"waste\", \"watching\", \"watching\", \"water\", \"water\", \"water\", \"water\", \"water\", \"weak\", \"weak\", \"weak\", \"wear\", \"wear\", \"wear\", \"wear\", \"wife\", \"wife\", \"wife\", \"wife\", \"wife\", \"wife\", \"wont\", \"wont\", \"wont\", \"wont\", \"wont\", \"work\", \"work\", \"work\", \"work\", \"work\", \"work\", \"work\", \"worked\", \"worked\", \"worked\", \"worked\", \"worked\", \"worked\", \"worked\", \"working\", \"working\", \"working\", \"working\", \"working\", \"working\", \"works\", \"works\", \"works\", \"works\", \"works\", \"works\", \"works\", \"worst\", \"worst\", \"worst\", \"worst\", \"worth\", \"worth\", \"worth\", \"worth\", \"worth\", \"worth\", \"wrap\", \"wrapped\"]}, \"R\": 30, \"lambda.step\": 0.01, \"plot.opts\": {\"xlab\": \"PC1\", \"ylab\": \"PC2\"}, \"topic.order\": [6, 3, 4, 1, 7, 5, 2]};\n",
       "\n",
       "function LDAvis_load_lib(url, callback){\n",
       "  var s = document.createElement('script');\n",
       "  s.src = url;\n",
       "  s.async = true;\n",
       "  s.onreadystatechange = s.onload = callback;\n",
       "  s.onerror = function(){console.warn(\"failed to load library \" + url);};\n",
       "  document.getElementsByTagName(\"head\")[0].appendChild(s);\n",
       "}\n",
       "\n",
       "if(typeof(LDAvis) !== \"undefined\"){\n",
       "   // already loaded: just create the visualization\n",
       "   !function(LDAvis){\n",
       "       new LDAvis(\"#\" + \"ldavis_el1726819543913671361165820822\", ldavis_el1726819543913671361165820822_data);\n",
       "   }(LDAvis);\n",
       "}else if(typeof define === \"function\" && define.amd){\n",
       "   // require.js is available: use it to load d3/LDAvis\n",
       "   require.config({paths: {d3: \"https://cdnjs.cloudflare.com/ajax/libs/d3/3.5.5/d3.min\"}});\n",
       "   require([\"d3\"], function(d3){\n",
       "      window.d3 = d3;\n",
       "      LDAvis_load_lib(\"https://cdn.rawgit.com/bmabey/pyLDAvis/files/ldavis.v1.0.0.js\", function(){\n",
       "        new LDAvis(\"#\" + \"ldavis_el1726819543913671361165820822\", ldavis_el1726819543913671361165820822_data);\n",
       "      });\n",
       "    });\n",
       "}else{\n",
       "    // require.js not available: dynamically load d3 & LDAvis\n",
       "    LDAvis_load_lib(\"https://cdnjs.cloudflare.com/ajax/libs/d3/3.5.5/d3.min.js\", function(){\n",
       "         LDAvis_load_lib(\"https://cdn.rawgit.com/bmabey/pyLDAvis/files/ldavis.v1.0.0.js\", function(){\n",
       "                 new LDAvis(\"#\" + \"ldavis_el1726819543913671361165820822\", ldavis_el1726819543913671361165820822_data);\n",
       "            })\n",
       "         });\n",
       "}\n",
       "</script>"
      ],
      "text/plain": [
       "PreparedData(topic_coordinates=              x         y  topics  cluster       Freq\n",
       "topic                                                \n",
       "5     -0.068253 -0.129932       1        1  26.389721\n",
       "2     -0.128970  0.010662       2        1  21.643464\n",
       "3     -0.059517 -0.067261       3        1  20.051918\n",
       "0     -0.181428  0.208766       4        1  13.968456\n",
       "6      0.036988 -0.080705       5        1   6.962971\n",
       "4      0.299129  0.118724       6        1   5.776236\n",
       "1      0.102051 -0.060254       7        1   5.207234, topic_info=      Category         Freq          Term        Total  loglift  logprob\n",
       "8870   Default  1192.000000         stars  1192.000000  30.0000  30.0000\n",
       "3981   Default  1452.000000         great  1452.000000  29.0000  29.0000\n",
       "3894   Default  1170.000000          good  1170.000000  28.0000  28.0000\n",
       "5289   Default   753.000000          love   753.000000  27.0000  27.0000\n",
       "10428  Default   709.000000         works   709.000000  26.0000  26.0000\n",
       "8866   Default   301.000000          star   301.000000  25.0000  25.0000\n",
       "3121   Default   171.000000     excelente   171.000000  24.0000  24.0000\n",
       "3125   Default   357.000000     excellent   357.000000  23.0000  23.0000\n",
       "5296   Default   153.000000         loves   153.000000  22.0000  22.0000\n",
       "6984   Default   443.000000         price   443.000000  21.0000  21.0000\n",
       "6523   Default   350.000000       perfect   350.000000  20.0000  20.0000\n",
       "1136   Default   118.000000         bueno   118.000000  19.0000  19.0000\n",
       "7066   Default   473.000000       product   473.000000  18.0000  18.0000\n",
       "5956   Default   385.000000          nice   385.000000  17.0000  17.0000\n",
       "664    Default   272.000000       awesome   272.000000  16.0000  16.0000\n",
       "3824   Default   120.000000          gift   120.000000  15.0000  15.0000\n",
       "1743   Default   335.000000     condition   335.000000  14.0000  14.0000\n",
       "5921   Default   736.000000           new   736.000000  13.0000  13.0000\n",
       "9287   Default    89.000000      telefono    89.000000  12.0000  12.0000\n",
       "8164   Default   453.000000        screen   453.000000  11.0000  11.0000\n",
       "1131   Default    82.000000          buen    82.000000  10.0000  10.0000\n",
       "3324   Default   324.000000           far   324.000000   9.0000   9.0000\n",
       "9835   Default   413.000000      unlocked   413.000000   8.0000   8.0000\n",
       "2327   Default   175.000000     described   175.000000   7.0000   7.0000\n",
       "3180   Default   210.000000      expected   210.000000   6.0000   6.0000\n",
       "879    Default    74.000000          bien    74.000000   5.0000   5.0000\n",
       "5152   Default   640.000000          like   640.000000   4.0000   4.0000\n",
       "7072   Default    73.000000      producto    73.000000   3.0000   3.0000\n",
       "8484   Default   290.000000           sim   290.000000   2.0000   2.0000\n",
       "857    Default   280.000000          best   280.000000   1.0000   1.0000\n",
       "...        ...          ...           ...          ...      ...      ...\n",
       "8394    Topic7     5.204162         shock     6.956371   2.6649  -6.8514\n",
       "1596    Topic7    26.905182         color    52.934148   2.2784  -5.2085\n",
       "1271    Topic7     6.442636        camper     9.058255   2.6144  -6.6379\n",
       "3176    Topic7    26.024690  expectations    53.005062   2.2438  -5.2418\n",
       "3837    Topic7     5.481495          girl     7.418764   2.6525  -6.7995\n",
       "1102    Topic7    40.582879        broken   101.484925   2.0386  -4.7975\n",
       "3255    Topic7     7.885841      fabulous    12.025342   2.5332  -6.4358\n",
       "2771    Topic7    23.962141       durable    55.665183   2.1122  -5.3244\n",
       "6314    Topic7    11.605595     overheats    20.842957   2.3696  -6.0494\n",
       "2231    Topic7    34.176333     defective    98.684317   1.8947  -4.9693\n",
       "3764    Topic7    16.719468       garbage    39.366408   2.0988  -5.6843\n",
       "1988    Topic7    17.410546          crap    42.708703   2.0578  -5.6438\n",
       "6685    Topic7    17.755550         piece    44.974535   2.0257  -5.6242\n",
       "7911    Topic7     9.815807           rip    17.669054   2.3673  -6.2169\n",
       "3009    Topic7     8.316611     equipment    14.014983   2.4332  -6.3826\n",
       "9610    Topic7    10.741837         trash    22.944159   2.1962  -6.1267\n",
       "10442   Topic7    17.367545         worst    59.330834   1.7266  -5.6463\n",
       "745     Topic7    12.940679         basic    34.011490   1.9888  -5.9405\n",
       "10137   Topic7    13.012393        volume    42.942517   1.7612  -5.9350\n",
       "10443   Topic7    19.938744         worth   155.209465   0.9030  -5.5082\n",
       "5745    Topic7    22.128708         money   235.008634   0.5924  -5.4040\n",
       "1197    Topic7    25.413325           buy   439.622017   0.1045  -5.2656\n",
       "7858    Topic7    15.920464        return   174.628151   0.5601  -5.7332\n",
       "8164    Topic7    18.525844        screen   453.768295  -0.2433  -5.5817\n",
       "7066    Topic7    16.734210       product   473.193606  -0.3869  -5.6834\n",
       "5289    Topic7    15.142633          love   753.443545  -0.9520  -5.7833\n",
       "3894    Topic7    15.601230          good  1170.268845  -1.3625  -5.7535\n",
       "8870    Topic7    14.604803         stars  1192.984749  -1.4477  -5.8195\n",
       "3981    Topic7    14.528877         great  1452.533585  -1.6498  -5.8247\n",
       "10409   Topic7    12.724191          work   433.316910  -0.5728  -5.9574\n",
       "\n",
       "[499 rows x 6 columns], token_table=       Topic      Freq         Term\n",
       "term                               \n",
       "0          4  0.776166        aaaaa\n",
       "51         1  0.104709  accessories\n",
       "51         2  0.802771  accessories\n",
       "51         3  0.052355  accessories\n",
       "51         4  0.017452  accessories\n",
       "51         7  0.034903  accessories\n",
       "100        1  0.874900     activate\n",
       "100        2  0.065291     activate\n",
       "100        3  0.039175     activate\n",
       "100        5  0.013058     activate\n",
       "178        3  0.878168          ads\n",
       "190        1  0.356039   advertised\n",
       "190        2  0.128408   advertised\n",
       "190        3  0.052530   advertised\n",
       "190        4  0.449427   advertised\n",
       "190        5  0.011673   advertised\n",
       "190        6  0.005837   advertised\n",
       "216        3  0.870580       africa\n",
       "268        3  0.936526        alert\n",
       "320        1  0.010379      amazing\n",
       "320        2  0.337312      amazing\n",
       "320        3  0.166061      amazing\n",
       "320        4  0.482616      amazing\n",
       "354        1  0.081066      android\n",
       "354        2  0.138970      android\n",
       "354        3  0.660107      android\n",
       "354        4  0.092647      android\n",
       "354        5  0.011581      android\n",
       "423        1  0.905437          apn\n",
       "432        1  0.194958          app\n",
       "...      ...       ...          ...\n",
       "10416      3  0.058775       worked\n",
       "10416      4  0.191018       worked\n",
       "10416      5  0.039183       worked\n",
       "10416      6  0.004898       worked\n",
       "10416      7  0.004898       worked\n",
       "10422      1  0.482554      working\n",
       "10422      2  0.172341      working\n",
       "10422      3  0.034468      working\n",
       "10422      4  0.248170      working\n",
       "10422      5  0.048255      working\n",
       "10422      7  0.010340      working\n",
       "10428      1  0.108469        works\n",
       "10428      2  0.257791        works\n",
       "10428      3  0.059165        works\n",
       "10428      4  0.559252        works\n",
       "10428      5  0.007043        works\n",
       "10428      6  0.005635        works\n",
       "10428      7  0.002817        works\n",
       "10442      1  0.370802        worst\n",
       "10442      3  0.286529        worst\n",
       "10442      5  0.050564        worst\n",
       "10442      7  0.286529        worst\n",
       "10443      1  0.103086        worth\n",
       "10443      2  0.270602        worth\n",
       "10443      3  0.141744        worth\n",
       "10443      4  0.328588        worth\n",
       "10443      5  0.025772        worth\n",
       "10443      7  0.128858        worth\n",
       "10458      2  0.846390         wrap\n",
       "10459      2  0.893941      wrapped\n",
       "\n",
       "[1265 rows x 3 columns], R=30, lambda_step=0.01, plot_opts={'xlab': 'PC1', 'ylab': 'PC2'}, topic_order=[6, 3, 4, 1, 7, 5, 2])"
      ]
     },
     "execution_count": 21,
     "metadata": {},
     "output_type": "execute_result"
    }
   ],
   "source": [
    "pyLDAvis.sklearn.prepare(model_LDA_tf, matrix_tfidfvect, tfidf_vectorizer)"
   ]
  },
  {
   "cell_type": "code",
   "execution_count": null,
   "metadata": {},
   "outputs": [],
   "source": [
    "pyLDAvis.sklearn.prepare(model_LDA_cv, doc_term_matrix_cv, count_vectorizer)\n",
    "%time"
   ]
  },
  {
   "cell_type": "code",
   "execution_count": null,
   "metadata": {},
   "outputs": [],
   "source": []
  }
 ],
 "metadata": {
  "kernelspec": {
   "display_name": "Python 3",
   "language": "python",
   "name": "python3"
  },
  "language_info": {
   "codemirror_mode": {
    "name": "ipython",
    "version": 3
   },
   "file_extension": ".py",
   "mimetype": "text/x-python",
   "name": "python",
   "nbconvert_exporter": "python",
   "pygments_lexer": "ipython3",
   "version": "3.7.3"
  },
  "toc": {
   "base_numbering": 1,
   "nav_menu": {
    "height": "103px",
    "width": "206px"
   },
   "number_sections": true,
   "sideBar": true,
   "skip_h1_title": false,
   "title_cell": "Table of Contents",
   "title_sidebar": "Contents",
   "toc_cell": false,
   "toc_position": {
    "height": "calc(100% - 180px)",
    "left": "10px",
    "top": "150px",
    "width": "165px"
   },
   "toc_section_display": true,
   "toc_window_display": true
  }
 },
 "nbformat": 4,
 "nbformat_minor": 2
}
